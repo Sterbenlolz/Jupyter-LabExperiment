{
 "cells": [
  {
   "cell_type": "code",
   "execution_count": 1,
   "id": "301c0ba4",
   "metadata": {
    "ExecuteTime": {
     "end_time": "2022-04-07T19:13:06.632478Z",
     "start_time": "2022-04-07T19:13:06.628203Z"
    },
    "id": "301c0ba4"
   },
   "outputs": [],
   "source": [
    "import pandas as pd\n",
    "import numpy as np\n",
    "import pickle\n",
    "import matplotlib.pyplot as plt\n"
   ]
  },
  {
   "cell_type": "code",
   "execution_count": 2,
   "id": "u8pa-KPZ1eCN",
   "metadata": {
    "id": "u8pa-KPZ1eCN"
   },
   "outputs": [],
   "source": [
    "cols = ['Cycle', 'Date', 'Time', 'RelTime[s]'] + [str(i+1) for i in range(20)]"
   ]
  },
  {
   "cell_type": "code",
   "execution_count": 3,
   "id": "0f573bdf",
   "metadata": {
    "id": "0f573bdf"
   },
   "outputs": [
    {
     "ename": "FileNotFoundError",
     "evalue": "[Errno 2] No such file or directory: '/content/wycr 3.csv'",
     "output_type": "error",
     "traceback": [
      "\u001b[1;31m---------------------------------------------------------------------------\u001b[0m",
      "\u001b[1;31mFileNotFoundError\u001b[0m                         Traceback (most recent call last)",
      "Input \u001b[1;32mIn [3]\u001b[0m, in \u001b[0;36m<cell line: 1>\u001b[1;34m()\u001b[0m\n\u001b[1;32m----> 1\u001b[0m data \u001b[38;5;241m=\u001b[39m \u001b[43mpd\u001b[49m\u001b[38;5;241;43m.\u001b[39;49m\u001b[43mread_csv\u001b[49m\u001b[43m(\u001b[49m\u001b[38;5;124;43m'\u001b[39;49m\u001b[38;5;124;43m/content/wycr 3.csv\u001b[39;49m\u001b[38;5;124;43m'\u001b[39;49m\u001b[43m,\u001b[49m\u001b[43m \u001b[49m\u001b[43msep\u001b[49m\u001b[43m \u001b[49m\u001b[38;5;241;43m=\u001b[39;49m\u001b[43m \u001b[49m\u001b[38;5;124;43m'\u001b[39;49m\u001b[38;5;130;43;01m\\t\u001b[39;49;00m\u001b[38;5;124;43m'\u001b[39;49m\u001b[43m,\u001b[49m\u001b[43m \u001b[49m\u001b[43mnames\u001b[49m\u001b[43m \u001b[49m\u001b[38;5;241;43m=\u001b[39;49m\u001b[43m \u001b[49m\u001b[43mcols\u001b[49m\u001b[43m)\u001b[49m\n",
      "File \u001b[1;32mc:\\users\\orlov&co\\appdata\\local\\programs\\python\\python39\\lib\\site-packages\\pandas\\util\\_decorators.py:311\u001b[0m, in \u001b[0;36mdeprecate_nonkeyword_arguments.<locals>.decorate.<locals>.wrapper\u001b[1;34m(*args, **kwargs)\u001b[0m\n\u001b[0;32m    305\u001b[0m \u001b[38;5;28;01mif\u001b[39;00m \u001b[38;5;28mlen\u001b[39m(args) \u001b[38;5;241m>\u001b[39m num_allow_args:\n\u001b[0;32m    306\u001b[0m     warnings\u001b[38;5;241m.\u001b[39mwarn(\n\u001b[0;32m    307\u001b[0m         msg\u001b[38;5;241m.\u001b[39mformat(arguments\u001b[38;5;241m=\u001b[39marguments),\n\u001b[0;32m    308\u001b[0m         \u001b[38;5;167;01mFutureWarning\u001b[39;00m,\n\u001b[0;32m    309\u001b[0m         stacklevel\u001b[38;5;241m=\u001b[39mstacklevel,\n\u001b[0;32m    310\u001b[0m     )\n\u001b[1;32m--> 311\u001b[0m \u001b[38;5;28;01mreturn\u001b[39;00m func(\u001b[38;5;241m*\u001b[39margs, \u001b[38;5;241m*\u001b[39m\u001b[38;5;241m*\u001b[39mkwargs)\n",
      "File \u001b[1;32mc:\\users\\orlov&co\\appdata\\local\\programs\\python\\python39\\lib\\site-packages\\pandas\\io\\parsers\\readers.py:680\u001b[0m, in \u001b[0;36mread_csv\u001b[1;34m(filepath_or_buffer, sep, delimiter, header, names, index_col, usecols, squeeze, prefix, mangle_dupe_cols, dtype, engine, converters, true_values, false_values, skipinitialspace, skiprows, skipfooter, nrows, na_values, keep_default_na, na_filter, verbose, skip_blank_lines, parse_dates, infer_datetime_format, keep_date_col, date_parser, dayfirst, cache_dates, iterator, chunksize, compression, thousands, decimal, lineterminator, quotechar, quoting, doublequote, escapechar, comment, encoding, encoding_errors, dialect, error_bad_lines, warn_bad_lines, on_bad_lines, delim_whitespace, low_memory, memory_map, float_precision, storage_options)\u001b[0m\n\u001b[0;32m    665\u001b[0m kwds_defaults \u001b[38;5;241m=\u001b[39m _refine_defaults_read(\n\u001b[0;32m    666\u001b[0m     dialect,\n\u001b[0;32m    667\u001b[0m     delimiter,\n\u001b[1;32m   (...)\u001b[0m\n\u001b[0;32m    676\u001b[0m     defaults\u001b[38;5;241m=\u001b[39m{\u001b[38;5;124m\"\u001b[39m\u001b[38;5;124mdelimiter\u001b[39m\u001b[38;5;124m\"\u001b[39m: \u001b[38;5;124m\"\u001b[39m\u001b[38;5;124m,\u001b[39m\u001b[38;5;124m\"\u001b[39m},\n\u001b[0;32m    677\u001b[0m )\n\u001b[0;32m    678\u001b[0m kwds\u001b[38;5;241m.\u001b[39mupdate(kwds_defaults)\n\u001b[1;32m--> 680\u001b[0m \u001b[38;5;28;01mreturn\u001b[39;00m \u001b[43m_read\u001b[49m\u001b[43m(\u001b[49m\u001b[43mfilepath_or_buffer\u001b[49m\u001b[43m,\u001b[49m\u001b[43m \u001b[49m\u001b[43mkwds\u001b[49m\u001b[43m)\u001b[49m\n",
      "File \u001b[1;32mc:\\users\\orlov&co\\appdata\\local\\programs\\python\\python39\\lib\\site-packages\\pandas\\io\\parsers\\readers.py:575\u001b[0m, in \u001b[0;36m_read\u001b[1;34m(filepath_or_buffer, kwds)\u001b[0m\n\u001b[0;32m    572\u001b[0m _validate_names(kwds\u001b[38;5;241m.\u001b[39mget(\u001b[38;5;124m\"\u001b[39m\u001b[38;5;124mnames\u001b[39m\u001b[38;5;124m\"\u001b[39m, \u001b[38;5;28;01mNone\u001b[39;00m))\n\u001b[0;32m    574\u001b[0m \u001b[38;5;66;03m# Create the parser.\u001b[39;00m\n\u001b[1;32m--> 575\u001b[0m parser \u001b[38;5;241m=\u001b[39m TextFileReader(filepath_or_buffer, \u001b[38;5;241m*\u001b[39m\u001b[38;5;241m*\u001b[39mkwds)\n\u001b[0;32m    577\u001b[0m \u001b[38;5;28;01mif\u001b[39;00m chunksize \u001b[38;5;129;01mor\u001b[39;00m iterator:\n\u001b[0;32m    578\u001b[0m     \u001b[38;5;28;01mreturn\u001b[39;00m parser\n",
      "File \u001b[1;32mc:\\users\\orlov&co\\appdata\\local\\programs\\python\\python39\\lib\\site-packages\\pandas\\io\\parsers\\readers.py:933\u001b[0m, in \u001b[0;36mTextFileReader.__init__\u001b[1;34m(self, f, engine, **kwds)\u001b[0m\n\u001b[0;32m    930\u001b[0m     \u001b[38;5;28mself\u001b[39m\u001b[38;5;241m.\u001b[39moptions[\u001b[38;5;124m\"\u001b[39m\u001b[38;5;124mhas_index_names\u001b[39m\u001b[38;5;124m\"\u001b[39m] \u001b[38;5;241m=\u001b[39m kwds[\u001b[38;5;124m\"\u001b[39m\u001b[38;5;124mhas_index_names\u001b[39m\u001b[38;5;124m\"\u001b[39m]\n\u001b[0;32m    932\u001b[0m \u001b[38;5;28mself\u001b[39m\u001b[38;5;241m.\u001b[39mhandles: IOHandles \u001b[38;5;241m|\u001b[39m \u001b[38;5;28;01mNone\u001b[39;00m \u001b[38;5;241m=\u001b[39m \u001b[38;5;28;01mNone\u001b[39;00m\n\u001b[1;32m--> 933\u001b[0m \u001b[38;5;28mself\u001b[39m\u001b[38;5;241m.\u001b[39m_engine \u001b[38;5;241m=\u001b[39m \u001b[38;5;28;43mself\u001b[39;49m\u001b[38;5;241;43m.\u001b[39;49m\u001b[43m_make_engine\u001b[49m\u001b[43m(\u001b[49m\u001b[43mf\u001b[49m\u001b[43m,\u001b[49m\u001b[43m \u001b[49m\u001b[38;5;28;43mself\u001b[39;49m\u001b[38;5;241;43m.\u001b[39;49m\u001b[43mengine\u001b[49m\u001b[43m)\u001b[49m\n",
      "File \u001b[1;32mc:\\users\\orlov&co\\appdata\\local\\programs\\python\\python39\\lib\\site-packages\\pandas\\io\\parsers\\readers.py:1217\u001b[0m, in \u001b[0;36mTextFileReader._make_engine\u001b[1;34m(self, f, engine)\u001b[0m\n\u001b[0;32m   1213\u001b[0m     mode \u001b[38;5;241m=\u001b[39m \u001b[38;5;124m\"\u001b[39m\u001b[38;5;124mrb\u001b[39m\u001b[38;5;124m\"\u001b[39m\n\u001b[0;32m   1214\u001b[0m \u001b[38;5;66;03m# error: No overload variant of \"get_handle\" matches argument types\u001b[39;00m\n\u001b[0;32m   1215\u001b[0m \u001b[38;5;66;03m# \"Union[str, PathLike[str], ReadCsvBuffer[bytes], ReadCsvBuffer[str]]\"\u001b[39;00m\n\u001b[0;32m   1216\u001b[0m \u001b[38;5;66;03m# , \"str\", \"bool\", \"Any\", \"Any\", \"Any\", \"Any\", \"Any\"\u001b[39;00m\n\u001b[1;32m-> 1217\u001b[0m \u001b[38;5;28mself\u001b[39m\u001b[38;5;241m.\u001b[39mhandles \u001b[38;5;241m=\u001b[39m \u001b[43mget_handle\u001b[49m\u001b[43m(\u001b[49m\u001b[43m  \u001b[49m\u001b[38;5;66;43;03m# type: ignore[call-overload]\u001b[39;49;00m\n\u001b[0;32m   1218\u001b[0m \u001b[43m    \u001b[49m\u001b[43mf\u001b[49m\u001b[43m,\u001b[49m\n\u001b[0;32m   1219\u001b[0m \u001b[43m    \u001b[49m\u001b[43mmode\u001b[49m\u001b[43m,\u001b[49m\n\u001b[0;32m   1220\u001b[0m \u001b[43m    \u001b[49m\u001b[43mencoding\u001b[49m\u001b[38;5;241;43m=\u001b[39;49m\u001b[38;5;28;43mself\u001b[39;49m\u001b[38;5;241;43m.\u001b[39;49m\u001b[43moptions\u001b[49m\u001b[38;5;241;43m.\u001b[39;49m\u001b[43mget\u001b[49m\u001b[43m(\u001b[49m\u001b[38;5;124;43m\"\u001b[39;49m\u001b[38;5;124;43mencoding\u001b[39;49m\u001b[38;5;124;43m\"\u001b[39;49m\u001b[43m,\u001b[49m\u001b[43m \u001b[49m\u001b[38;5;28;43;01mNone\u001b[39;49;00m\u001b[43m)\u001b[49m\u001b[43m,\u001b[49m\n\u001b[0;32m   1221\u001b[0m \u001b[43m    \u001b[49m\u001b[43mcompression\u001b[49m\u001b[38;5;241;43m=\u001b[39;49m\u001b[38;5;28;43mself\u001b[39;49m\u001b[38;5;241;43m.\u001b[39;49m\u001b[43moptions\u001b[49m\u001b[38;5;241;43m.\u001b[39;49m\u001b[43mget\u001b[49m\u001b[43m(\u001b[49m\u001b[38;5;124;43m\"\u001b[39;49m\u001b[38;5;124;43mcompression\u001b[39;49m\u001b[38;5;124;43m\"\u001b[39;49m\u001b[43m,\u001b[49m\u001b[43m \u001b[49m\u001b[38;5;28;43;01mNone\u001b[39;49;00m\u001b[43m)\u001b[49m\u001b[43m,\u001b[49m\n\u001b[0;32m   1222\u001b[0m \u001b[43m    \u001b[49m\u001b[43mmemory_map\u001b[49m\u001b[38;5;241;43m=\u001b[39;49m\u001b[38;5;28;43mself\u001b[39;49m\u001b[38;5;241;43m.\u001b[39;49m\u001b[43moptions\u001b[49m\u001b[38;5;241;43m.\u001b[39;49m\u001b[43mget\u001b[49m\u001b[43m(\u001b[49m\u001b[38;5;124;43m\"\u001b[39;49m\u001b[38;5;124;43mmemory_map\u001b[39;49m\u001b[38;5;124;43m\"\u001b[39;49m\u001b[43m,\u001b[49m\u001b[43m \u001b[49m\u001b[38;5;28;43;01mFalse\u001b[39;49;00m\u001b[43m)\u001b[49m\u001b[43m,\u001b[49m\n\u001b[0;32m   1223\u001b[0m \u001b[43m    \u001b[49m\u001b[43mis_text\u001b[49m\u001b[38;5;241;43m=\u001b[39;49m\u001b[43mis_text\u001b[49m\u001b[43m,\u001b[49m\n\u001b[0;32m   1224\u001b[0m \u001b[43m    \u001b[49m\u001b[43merrors\u001b[49m\u001b[38;5;241;43m=\u001b[39;49m\u001b[38;5;28;43mself\u001b[39;49m\u001b[38;5;241;43m.\u001b[39;49m\u001b[43moptions\u001b[49m\u001b[38;5;241;43m.\u001b[39;49m\u001b[43mget\u001b[49m\u001b[43m(\u001b[49m\u001b[38;5;124;43m\"\u001b[39;49m\u001b[38;5;124;43mencoding_errors\u001b[39;49m\u001b[38;5;124;43m\"\u001b[39;49m\u001b[43m,\u001b[49m\u001b[43m \u001b[49m\u001b[38;5;124;43m\"\u001b[39;49m\u001b[38;5;124;43mstrict\u001b[39;49m\u001b[38;5;124;43m\"\u001b[39;49m\u001b[43m)\u001b[49m\u001b[43m,\u001b[49m\n\u001b[0;32m   1225\u001b[0m \u001b[43m    \u001b[49m\u001b[43mstorage_options\u001b[49m\u001b[38;5;241;43m=\u001b[39;49m\u001b[38;5;28;43mself\u001b[39;49m\u001b[38;5;241;43m.\u001b[39;49m\u001b[43moptions\u001b[49m\u001b[38;5;241;43m.\u001b[39;49m\u001b[43mget\u001b[49m\u001b[43m(\u001b[49m\u001b[38;5;124;43m\"\u001b[39;49m\u001b[38;5;124;43mstorage_options\u001b[39;49m\u001b[38;5;124;43m\"\u001b[39;49m\u001b[43m,\u001b[49m\u001b[43m \u001b[49m\u001b[38;5;28;43;01mNone\u001b[39;49;00m\u001b[43m)\u001b[49m\u001b[43m,\u001b[49m\n\u001b[0;32m   1226\u001b[0m \u001b[43m\u001b[49m\u001b[43m)\u001b[49m\n\u001b[0;32m   1227\u001b[0m \u001b[38;5;28;01massert\u001b[39;00m \u001b[38;5;28mself\u001b[39m\u001b[38;5;241m.\u001b[39mhandles \u001b[38;5;129;01mis\u001b[39;00m \u001b[38;5;129;01mnot\u001b[39;00m \u001b[38;5;28;01mNone\u001b[39;00m\n\u001b[0;32m   1228\u001b[0m f \u001b[38;5;241m=\u001b[39m \u001b[38;5;28mself\u001b[39m\u001b[38;5;241m.\u001b[39mhandles\u001b[38;5;241m.\u001b[39mhandle\n",
      "File \u001b[1;32mc:\\users\\orlov&co\\appdata\\local\\programs\\python\\python39\\lib\\site-packages\\pandas\\io\\common.py:789\u001b[0m, in \u001b[0;36mget_handle\u001b[1;34m(path_or_buf, mode, encoding, compression, memory_map, is_text, errors, storage_options)\u001b[0m\n\u001b[0;32m    784\u001b[0m \u001b[38;5;28;01melif\u001b[39;00m \u001b[38;5;28misinstance\u001b[39m(handle, \u001b[38;5;28mstr\u001b[39m):\n\u001b[0;32m    785\u001b[0m     \u001b[38;5;66;03m# Check whether the filename is to be opened in binary mode.\u001b[39;00m\n\u001b[0;32m    786\u001b[0m     \u001b[38;5;66;03m# Binary mode does not support 'encoding' and 'newline'.\u001b[39;00m\n\u001b[0;32m    787\u001b[0m     \u001b[38;5;28;01mif\u001b[39;00m ioargs\u001b[38;5;241m.\u001b[39mencoding \u001b[38;5;129;01mand\u001b[39;00m \u001b[38;5;124m\"\u001b[39m\u001b[38;5;124mb\u001b[39m\u001b[38;5;124m\"\u001b[39m \u001b[38;5;129;01mnot\u001b[39;00m \u001b[38;5;129;01min\u001b[39;00m ioargs\u001b[38;5;241m.\u001b[39mmode:\n\u001b[0;32m    788\u001b[0m         \u001b[38;5;66;03m# Encoding\u001b[39;00m\n\u001b[1;32m--> 789\u001b[0m         handle \u001b[38;5;241m=\u001b[39m \u001b[38;5;28;43mopen\u001b[39;49m\u001b[43m(\u001b[49m\n\u001b[0;32m    790\u001b[0m \u001b[43m            \u001b[49m\u001b[43mhandle\u001b[49m\u001b[43m,\u001b[49m\n\u001b[0;32m    791\u001b[0m \u001b[43m            \u001b[49m\u001b[43mioargs\u001b[49m\u001b[38;5;241;43m.\u001b[39;49m\u001b[43mmode\u001b[49m\u001b[43m,\u001b[49m\n\u001b[0;32m    792\u001b[0m \u001b[43m            \u001b[49m\u001b[43mencoding\u001b[49m\u001b[38;5;241;43m=\u001b[39;49m\u001b[43mioargs\u001b[49m\u001b[38;5;241;43m.\u001b[39;49m\u001b[43mencoding\u001b[49m\u001b[43m,\u001b[49m\n\u001b[0;32m    793\u001b[0m \u001b[43m            \u001b[49m\u001b[43merrors\u001b[49m\u001b[38;5;241;43m=\u001b[39;49m\u001b[43merrors\u001b[49m\u001b[43m,\u001b[49m\n\u001b[0;32m    794\u001b[0m \u001b[43m            \u001b[49m\u001b[43mnewline\u001b[49m\u001b[38;5;241;43m=\u001b[39;49m\u001b[38;5;124;43m\"\u001b[39;49m\u001b[38;5;124;43m\"\u001b[39;49m\u001b[43m,\u001b[49m\n\u001b[0;32m    795\u001b[0m \u001b[43m        \u001b[49m\u001b[43m)\u001b[49m\n\u001b[0;32m    796\u001b[0m     \u001b[38;5;28;01melse\u001b[39;00m:\n\u001b[0;32m    797\u001b[0m         \u001b[38;5;66;03m# Binary mode\u001b[39;00m\n\u001b[0;32m    798\u001b[0m         handle \u001b[38;5;241m=\u001b[39m \u001b[38;5;28mopen\u001b[39m(handle, ioargs\u001b[38;5;241m.\u001b[39mmode)\n",
      "\u001b[1;31mFileNotFoundError\u001b[0m: [Errno 2] No such file or directory: '/content/wycr 3.csv'"
     ]
    }
   ],
   "source": [
    "data = pd.read_csv('/content/wycr 3.csv', sep = '\\t', names = cols)"
   ]
  },
  {
   "cell_type": "code",
   "execution_count": null,
   "id": "R9qROc-000XN",
   "metadata": {
    "id": "R9qROc-000XN"
   },
   "outputs": [],
   "source": [
    "data = data.iloc[1:]\n",
    "data = data.drop(['20'], axis = 1)\n",
    "cols_to_float = ['RelTime[s]'] + [str(i+1) for i in range(19)]\n",
    "data[cols_to_float] = data[cols_to_float].astype(float)"
   ]
  },
  {
   "cell_type": "code",
   "execution_count": null,
   "id": "mSHS0nCGBTku",
   "metadata": {
    "id": "mSHS0nCGBTku"
   },
   "outputs": [],
   "source": [
    "import datetime"
   ]
  },
  {
   "cell_type": "code",
   "execution_count": null,
   "id": "YDobRM1DBD-7",
   "metadata": {
    "id": "YDobRM1DBD-7"
   },
   "outputs": [],
   "source": [
    "datetime_start = datetime.datetime.strptime('16:23:37', '%H:%M:%S')\n"
   ]
  },
  {
   "cell_type": "code",
   "execution_count": null,
   "id": "uOF5xmIaAxfy",
   "metadata": {
    "id": "uOF5xmIaAxfy"
   },
   "outputs": [],
   "source": [
    "data = data[data['Time'].apply(lambda x: datetime.datetime.strptime(x, '%H:%M:%S:%f'))>datetime_start]"
   ]
  },
  {
   "cell_type": "code",
   "execution_count": null,
   "id": "kzzaTvDBAs2U",
   "metadata": {
    "id": "kzzaTvDBAs2U"
   },
   "outputs": [],
   "source": [
    "#Date and time: 17.02.2022 16:23:37\n"
   ]
  },
  {
   "cell_type": "code",
   "execution_count": null,
   "id": "1S4lmv4m-3s5",
   "metadata": {
    "id": "1S4lmv4m-3s5"
   },
   "outputs": [],
   "source": [
    "temp = pd.read_csv('/content/temp_WYCr 3.txt', sep=\"\\t\")\n",
    "for col in temp.columns:\n",
    "  temp[col] = temp[col].apply(lambda x: float(x.replace(',','.')))"
   ]
  },
  {
   "cell_type": "code",
   "execution_count": null,
   "id": "B1paPQcO-4rK",
   "metadata": {
    "id": "B1paPQcO-4rK"
   },
   "outputs": [],
   "source": [
    "data['RelTime[s]'] = data['RelTime[s]'] - data['RelTime[s]'].iloc[0]"
   ]
  },
  {
   "cell_type": "code",
   "execution_count": null,
   "id": "wtol0xh9_Sk_",
   "metadata": {
    "colab": {
     "base_uri": "https://localhost:8080/",
     "height": 382
    },
    "id": "wtol0xh9_Sk_",
    "outputId": "62499e28-3ad7-4a70-9309-c993ae0acdae"
   },
   "outputs": [],
   "source": [
    "data.head()"
   ]
  },
  {
   "cell_type": "code",
   "execution_count": null,
   "id": "7gX8M1v9_TtC",
   "metadata": {
    "colab": {
     "base_uri": "https://localhost:8080/",
     "height": 204
    },
    "id": "7gX8M1v9_TtC",
    "outputId": "3d564e90-5f45-426e-d141-a3a916999d20"
   },
   "outputs": [],
   "source": [
    "temp.head()"
   ]
  },
  {
   "cell_type": "code",
   "execution_count": null,
   "id": "2v2OddVg4qCM",
   "metadata": {
    "id": "2v2OddVg4qCM"
   },
   "outputs": [],
   "source": []
  },
  {
   "cell_type": "code",
   "execution_count": null,
   "id": "b_NVhpDw7888",
   "metadata": {
    "colab": {
     "base_uri": "https://localhost:8080/",
     "height": 1000
    },
    "id": "b_NVhpDw7888",
    "outputId": "a0625982-d217-431a-ae0d-9696b9f9dd5c"
   },
   "outputs": [],
   "source": [
    "titles = [3, 4, 19, 20]\n",
    "arr_of_integrals = []\n",
    "for idx, need_col in enumerate(['2', '3', '12', '13']):\n",
    "  x = data['RelTime[s]']\n",
    "  y = data[need_col]\n",
    "  arr_of_integrals.append(np.trapz(y, x))\n",
    "  x1 = temp['t, s']\n",
    "  y1 = temp['Tr, C'] + 273\n",
    "  fig,ax = plt.subplots()\n",
    "  ax.plot(x, y, color='teal',linewidth=3, label = \"I(t)\")\n",
    "  ax.grid()\n",
    "\n",
    "\n",
    "  ax.set_title(f'График зависимости тока и температуры от времени\\n для массы {titles[idx]}')\n",
    "  ax.set_ylabel('I, A')\n",
    "  ax.set_xlabel('t, С')\n",
    "  ax2 = ax.twinx()\n",
    "  ax2.plot(x1, y1, color='orange', linewidth=3, label = \"T(t)\")\n",
    "\n",
    "  # Align to 0\n",
    "  #ax2.set_ylim(bottom=0)\n",
    "  ax2.set_ylabel('T, K')\n",
    "  ax.legend(loc='center right')\n",
    "  ax2.legend(loc='upper left')\n",
    "\n",
    "\n",
    "  plt.show()\n"
   ]
  },
  {
   "cell_type": "code",
   "execution_count": null,
   "id": "7lyBrDtSQFCX",
   "metadata": {
    "colab": {
     "base_uri": "https://localhost:8080/"
    },
    "id": "7lyBrDtSQFCX",
    "outputId": "8a49cfee-8add-488d-e6f2-2f6675a380d4"
   },
   "outputs": [],
   "source": [
    "arr_of_integrals"
   ]
  },
  {
   "cell_type": "code",
   "execution_count": null,
   "id": "d3qnTwWVSBiV",
   "metadata": {
    "id": "d3qnTwWVSBiV"
   },
   "outputs": [],
   "source": [
    "calibr = pd.read_csv('/content/calibr_(wycr 3).csv', sep = '\\t', names = cols)"
   ]
  },
  {
   "cell_type": "code",
   "execution_count": null,
   "id": "IYJz6RvBSoyz",
   "metadata": {
    "id": "IYJz6RvBSoyz"
   },
   "outputs": [],
   "source": [
    "calibr = calibr.iloc[2:]\n",
    "calibr = calibr.drop(['20'], axis = 1)\n",
    "cols_to_float = ['RelTime[s]'] + [str(i+1) for i in range(19)]\n",
    "calibr[cols_to_float] = calibr[cols_to_float].astype(float)\n",
    "calibr = calibr[calibr['RelTime[s]'] > temp['t, s'].iloc[0]]"
   ]
  },
  {
   "cell_type": "code",
   "execution_count": null,
   "id": "j_NPR8G0SskR",
   "metadata": {
    "id": "j_NPR8G0SskR"
   },
   "outputs": [],
   "source": [
    "y_calibr = calibr['3']\n",
    "x_calibr = calibr['RelTime[s]']"
   ]
  },
  {
   "cell_type": "code",
   "execution_count": null,
   "id": "jWywpQSmUY_n",
   "metadata": {
    "id": "jWywpQSmUY_n"
   },
   "outputs": [],
   "source": [
    "I0 = calibr[ calibr['RelTime[s]'] > 800]['3'].mean()\n",
    "I0 = [I0 for i in range(len(x_calibr))]"
   ]
  },
  {
   "cell_type": "code",
   "execution_count": null,
   "id": "j9zjtX0WTKlU",
   "metadata": {
    "colab": {
     "base_uri": "https://localhost:8080/",
     "height": 295
    },
    "id": "j9zjtX0WTKlU",
    "outputId": "92472672-b39c-4c7f-c135-7c5c5710be19"
   },
   "outputs": [],
   "source": [
    "plt.plot(x_calibr, y_calibr, label='I(t)')\n",
    "plt.plot(x_calibr, I0,  '--', color='red', linewidth=2 , label='I0')\n",
    "plt.xlabel('t, c')\n",
    "plt.ylabel('I, A')\n",
    "plt.title('Калибровочный график для массы 4')\n",
    "plt.ylim([0,0.4e-7])\n",
    "plt.grid()\n",
    "\n",
    "plt.legend()\n",
    "plt.show()"
   ]
  },
  {
   "cell_type": "code",
   "execution_count": null,
   "id": "jSzcDagETxGD",
   "metadata": {
    "id": "jSzcDagETxGD"
   },
   "outputs": [],
   "source": [
    "baratron = pd.read_csv('/content/baratron_(wycr 3).txt', sep=\"\\t\", names = ['t','P'])\n",
    "baratron['t'] = baratron['t'].apply(lambda x: float(x.replace(',','.')))\n",
    "baratron['P'] = baratron['P'].apply(lambda x: float(x.replace(',','.')))"
   ]
  },
  {
   "cell_type": "code",
   "execution_count": null,
   "id": "jRWci9xrYLZG",
   "metadata": {
    "id": "jRWci9xrYLZG"
   },
   "outputs": [],
   "source": [
    "x_bara = baratron['t']\n",
    "y_bara = baratron['P'] * 0.750062 # to Torr"
   ]
  },
  {
   "cell_type": "code",
   "execution_count": null,
   "id": "Mp-B-pxoX-X3",
   "metadata": {
    "id": "Mp-B-pxoX-X3"
   },
   "outputs": [],
   "source": [
    "from scipy.optimize import curve_fit"
   ]
  },
  {
   "cell_type": "code",
   "execution_count": null,
   "id": "bppWZG1M9_1U",
   "metadata": {
    "id": "bppWZG1M9_1U"
   },
   "outputs": [],
   "source": [
    "def objective(x, a, b):\n",
    "\treturn a * x + b"
   ]
  },
  {
   "cell_type": "code",
   "execution_count": null,
   "id": "JaaSzu75-Fo0",
   "metadata": {
    "id": "JaaSzu75-Fo0"
   },
   "outputs": [],
   "source": [
    "fit_x = x_bara[150:400]\n",
    "fit_y = y_bara[150:400]"
   ]
  },
  {
   "cell_type": "code",
   "execution_count": null,
   "id": "KmPYMMnb-LTj",
   "metadata": {
    "id": "KmPYMMnb-LTj"
   },
   "outputs": [],
   "source": [
    "popt, _ = curve_fit(objective, fit_x, fit_y)\n",
    "a, b = popt"
   ]
  },
  {
   "cell_type": "code",
   "execution_count": null,
   "id": "RJ7wmI3m-aN9",
   "metadata": {
    "id": "RJ7wmI3m-aN9"
   },
   "outputs": [],
   "source": [
    "x_line = np.arange(min(fit_x), max(fit_x), 1)"
   ]
  },
  {
   "cell_type": "code",
   "execution_count": null,
   "id": "c9HSa1iH-bs4",
   "metadata": {
    "id": "c9HSa1iH-bs4"
   },
   "outputs": [],
   "source": [
    "y_line = objective(x_line, a, b)"
   ]
  },
  {
   "cell_type": "code",
   "execution_count": null,
   "id": "_z-WRcVZ-o3w",
   "metadata": {
    "colab": {
     "base_uri": "https://localhost:8080/",
     "height": 295
    },
    "id": "_z-WRcVZ-o3w",
    "outputId": "258e0ded-2739-43d7-b6bd-5f8b40973d38"
   },
   "outputs": [],
   "source": [
    "plt.plot(x_line, y_line, '--', color='red', linewidth=3, label = \"fitting\")\n",
    "plt.plot(x_bara, y_bara, label = \"P(t)\")\n",
    "plt.xlabel('t, c')\n",
    "plt.grid()\n",
    "plt.ylabel('P, Torr')\n",
    "plt.title('График зависимости давления от времени')\n",
    "plt.legend()\n",
    "plt.show()"
   ]
  },
  {
   "cell_type": "code",
   "execution_count": null,
   "id": "x5y7rvki-s_L",
   "metadata": {
    "colab": {
     "base_uri": "https://localhost:8080/"
    },
    "id": "x5y7rvki-s_L",
    "outputId": "0ca7922a-79ef-4786-fda5-a5a02db8056f"
   },
   "outputs": [],
   "source": [
    "a, I0[0]"
   ]
  },
  {
   "cell_type": "code",
   "execution_count": null,
   "id": "Zuv8BNRW_pIU",
   "metadata": {
    "colab": {
     "base_uri": "https://localhost:8080/"
    },
    "id": "Zuv8BNRW_pIU",
    "outputId": "a7407cee-d5ea-4629-8aa8-c158b4c9129e"
   },
   "outputs": [],
   "source": [
    " 5.2e-2 * a/I0[0]"
   ]
  },
  {
   "cell_type": "code",
   "execution_count": null,
   "id": "k8L6uDHV_e-Z",
   "metadata": {
    "colab": {
     "base_uri": "https://localhost:8080/"
    },
    "id": "k8L6uDHV_e-Z",
    "outputId": "d3ba84f9-4171-433f-e34e-288c40ef725a"
   },
   "outputs": [],
   "source": [
    "k = 3.5e19 * 5.2e-2 * a/I0[0]\n",
    "k"
   ]
  },
  {
   "cell_type": "code",
   "execution_count": null,
   "id": "_vRFN9ST_wz0",
   "metadata": {
    "id": "_vRFN9ST_wz0"
   },
   "outputs": [],
   "source": [
    "integrals_prod_coef = k * np.array(arr_of_integrals)"
   ]
  },
  {
   "cell_type": "code",
   "execution_count": null,
   "id": "WbhIXaYa_xiP",
   "metadata": {
    "id": "WbhIXaYa_xiP"
   },
   "outputs": [],
   "source": [
    "coef = [0.5, 2, 0.5, 2]\n",
    "for idx, c in enumerate(coef):\n",
    "  integrals_prod_coef[idx]*=c"
   ]
  },
  {
   "cell_type": "code",
   "execution_count": null,
   "id": "NTKuHTrp3O0i",
   "metadata": {
    "colab": {
     "base_uri": "https://localhost:8080/"
    },
    "id": "NTKuHTrp3O0i",
    "outputId": "1c10605a-d797-4e00-958d-fb97f8081e9d"
   },
   "outputs": [],
   "source": [
    "integrals_prod_coef"
   ]
  },
  {
   "cell_type": "code",
   "execution_count": null,
   "id": "_vOolqY33Pfw",
   "metadata": {
    "colab": {
     "base_uri": "https://localhost:8080/"
    },
    "id": "_vOolqY33Pfw",
    "outputId": "eb1dfc1b-4a52-41f7-c349-1c58837e8f00"
   },
   "outputs": [],
   "source": [
    "integrals_prod_coef.sum()/1e15"
   ]
  },
  {
   "cell_type": "code",
   "execution_count": null,
   "id": "1LbBPyvDESgc",
   "metadata": {
    "id": "1LbBPyvDESgc"
   },
   "outputs": [],
   "source": []
  }
 ],
 "metadata": {
  "colab": {
   "name": "hw.ipynb",
   "provenance": []
  },
  "kernelspec": {
   "display_name": "Python 3 (ipykernel)",
   "language": "python",
   "name": "python3"
  },
  "language_info": {
   "codemirror_mode": {
    "name": "ipython",
    "version": 3
   },
   "file_extension": ".py",
   "mimetype": "text/x-python",
   "name": "python",
   "nbconvert_exporter": "python",
   "pygments_lexer": "ipython3",
   "version": "3.9.6"
  },
  "varInspector": {
   "cols": {
    "lenName": 16,
    "lenType": 16,
    "lenVar": 40
   },
   "kernels_config": {
    "python": {
     "delete_cmd_postfix": "",
     "delete_cmd_prefix": "del ",
     "library": "var_list.py",
     "varRefreshCmd": "print(var_dic_list())"
    },
    "r": {
     "delete_cmd_postfix": ") ",
     "delete_cmd_prefix": "rm(",
     "library": "var_list.r",
     "varRefreshCmd": "cat(var_dic_list()) "
    }
   },
   "types_to_exclude": [
    "module",
    "function",
    "builtin_function_or_method",
    "instance",
    "_Feature"
   ],
   "window_display": false
  }
 },
 "nbformat": 4,
 "nbformat_minor": 5
}
