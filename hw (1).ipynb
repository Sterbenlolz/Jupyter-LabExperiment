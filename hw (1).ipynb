{
 "cells": [
  {
   "cell_type": "code",
   "execution_count": 1,
   "id": "869860d9",
   "metadata": {
    "ExecuteTime": {
     "end_time": "2022-04-07T19:13:06.632478Z",
     "start_time": "2022-04-07T19:13:06.628203Z"
    },
    "id": "301c0ba4",
    "tags": []
   },
   "outputs": [],
   "source": [
    "import pandas as pd\n",
    "import numpy as np\n",
    "import pickle\n",
    "import matplotlib.pyplot as plt\n"
   ]
  },
  {
   "cell_type": "code",
   "execution_count": 2,
   "id": "c48f0af2",
   "metadata": {
    "id": "u8pa-KPZ1eCN"
   },
   "outputs": [],
   "source": [
    "cols = ['Cycle', 'Date', 'Time', 'RelTime[s]'] + [str(i+1) for i in range(20)]"
   ]
  },
  {
   "cell_type": "code",
   "execution_count": 3,
   "id": "9c83784a",
   "metadata": {
    "id": "0f573bdf"
   },
   "outputs": [],
   "source": [
    "data = pd.read_csv('s220403.asc', sep = '\\t', names = cols)\n",
    "data = data.drop(labels=range(0,73), axis=0)"
   ]
  },
  {
   "cell_type": "code",
   "execution_count": 4,
   "id": "3d2b1f28",
   "metadata": {
    "id": "R9qROc-000XN"
   },
   "outputs": [],
   "source": [
    "data = data.iloc[1:]\n",
    "data = data.drop(['20'], axis = 1)\n",
    "cols_to_float = ['RelTime[s]'] + [str(i+1) for i in range(19)]\n",
    "data[cols_to_float] = data[cols_to_float].astype(float)"
   ]
  },
  {
   "cell_type": "code",
   "execution_count": 5,
   "id": "6b46cbdf",
   "metadata": {
    "id": "mSHS0nCGBTku"
   },
   "outputs": [],
   "source": [
    "import datetime"
   ]
  },
  {
   "cell_type": "code",
   "execution_count": 6,
   "id": "9ebf4063",
   "metadata": {
    "id": "YDobRM1DBD-7"
   },
   "outputs": [],
   "source": [
    "datetime_start = datetime.datetime.strptime('22:42:03', '%H:%M:%S')\n"
   ]
  },
  {
   "cell_type": "code",
   "execution_count": 7,
   "id": "9f30272e",
   "metadata": {
    "id": "uOF5xmIaAxfy"
   },
   "outputs": [],
   "source": [
    "data = data[data['Time'].apply(lambda x: datetime.datetime.strptime(x, '%H:%M:%S:%f'))>datetime_start]"
   ]
  },
  {
   "cell_type": "code",
   "execution_count": 8,
   "id": "b4f74fd0",
   "metadata": {
    "id": "kzzaTvDBAs2U"
   },
   "outputs": [],
   "source": [
    "#Date and time: 17.02.2022 16:23:37\n"
   ]
  },
  {
   "cell_type": "code",
   "execution_count": 9,
   "id": "09bf93e2",
   "metadata": {
    "id": "1S4lmv4m-3s5"
   },
   "outputs": [],
   "source": [
    "# temp = pd.read_csv('/content/temp_WYCr 3.txt', sep=\"\\t\")\n",
    "temp = pd.read_csv('temp_S220403.txt', sep=\"\\t\")\n",
    "# temp = np.loadtxt('temp_S220403.txt', skiprows=6)\n",
    "# temp\n",
    "for col in temp.columns:\n",
    "  temp[col] = temp[col].apply(lambda x: float(x.replace(',','.')))"
   ]
  },
  {
   "cell_type": "code",
   "execution_count": 10,
   "id": "78c69e87",
   "metadata": {
    "id": "B1paPQcO-4rK"
   },
   "outputs": [],
   "source": [
    "data['RelTime[s]'] = data['RelTime[s]'] - data['RelTime[s]'].iloc[0]"
   ]
  },
  {
   "cell_type": "code",
   "execution_count": 11,
   "id": "7cba8181",
   "metadata": {
    "colab": {
     "base_uri": "https://localhost:8080/",
     "height": 382
    },
    "id": "wtol0xh9_Sk_",
    "outputId": "62499e28-3ad7-4a70-9309-c993ae0acdae",
    "scrolled": true
   },
   "outputs": [
    {
     "data": {
      "text/html": [
       "<div>\n",
       "<style scoped>\n",
       "    .dataframe tbody tr th:only-of-type {\n",
       "        vertical-align: middle;\n",
       "    }\n",
       "\n",
       "    .dataframe tbody tr th {\n",
       "        vertical-align: top;\n",
       "    }\n",
       "\n",
       "    .dataframe thead th {\n",
       "        text-align: right;\n",
       "    }\n",
       "</style>\n",
       "<table border=\"1\" class=\"dataframe\">\n",
       "  <thead>\n",
       "    <tr style=\"text-align: right;\">\n",
       "      <th></th>\n",
       "      <th>Cycle</th>\n",
       "      <th>Date</th>\n",
       "      <th>Time</th>\n",
       "      <th>RelTime[s]</th>\n",
       "      <th>1</th>\n",
       "      <th>2</th>\n",
       "      <th>3</th>\n",
       "      <th>4</th>\n",
       "      <th>5</th>\n",
       "      <th>6</th>\n",
       "      <th>...</th>\n",
       "      <th>10</th>\n",
       "      <th>11</th>\n",
       "      <th>12</th>\n",
       "      <th>13</th>\n",
       "      <th>14</th>\n",
       "      <th>15</th>\n",
       "      <th>16</th>\n",
       "      <th>17</th>\n",
       "      <th>18</th>\n",
       "      <th>19</th>\n",
       "    </tr>\n",
       "  </thead>\n",
       "  <tbody>\n",
       "    <tr>\n",
       "      <th>101</th>\n",
       "      <td>74</td>\n",
       "      <td>19.04.2022</td>\n",
       "      <td>22:42:04:34</td>\n",
       "      <td>0.000</td>\n",
       "      <td>1.581580e-10</td>\n",
       "      <td>5.268910e-13</td>\n",
       "      <td>1.457010e-13</td>\n",
       "      <td>8.508510e-14</td>\n",
       "      <td>9.213310e-12</td>\n",
       "      <td>7.780510e-13</td>\n",
       "      <td>...</td>\n",
       "      <td>6.284010e-10</td>\n",
       "      <td>2.281850e-09</td>\n",
       "      <td>1.053330e-11</td>\n",
       "      <td>4.721540e-12</td>\n",
       "      <td>1.933300e-10</td>\n",
       "      <td>9.718810e-13</td>\n",
       "      <td>9.953430e-13</td>\n",
       "      <td>4.964060e-13</td>\n",
       "      <td>1.041500e-12</td>\n",
       "      <td>9.473110e-12</td>\n",
       "    </tr>\n",
       "    <tr>\n",
       "      <th>102</th>\n",
       "      <td>75</td>\n",
       "      <td>19.04.2022</td>\n",
       "      <td>22:42:06:43</td>\n",
       "      <td>2.094</td>\n",
       "      <td>2.102560e-09</td>\n",
       "      <td>2.541630e-12</td>\n",
       "      <td>1.598410e-13</td>\n",
       "      <td>1.324050e-13</td>\n",
       "      <td>2.416510e-11</td>\n",
       "      <td>2.096190e-12</td>\n",
       "      <td>...</td>\n",
       "      <td>5.665210e-10</td>\n",
       "      <td>1.856860e-09</td>\n",
       "      <td>8.076260e-12</td>\n",
       "      <td>3.692780e-12</td>\n",
       "      <td>1.594320e-10</td>\n",
       "      <td>1.148420e-12</td>\n",
       "      <td>1.869140e-12</td>\n",
       "      <td>5.205210e-13</td>\n",
       "      <td>1.943310e-12</td>\n",
       "      <td>1.071980e-11</td>\n",
       "    </tr>\n",
       "    <tr>\n",
       "      <th>103</th>\n",
       "      <td>76</td>\n",
       "      <td>19.04.2022</td>\n",
       "      <td>22:42:08:53</td>\n",
       "      <td>4.187</td>\n",
       "      <td>3.817910e-09</td>\n",
       "      <td>4.418510e-12</td>\n",
       "      <td>2.469030e-13</td>\n",
       "      <td>5.222620e-14</td>\n",
       "      <td>2.381020e-11</td>\n",
       "      <td>3.388390e-12</td>\n",
       "      <td>...</td>\n",
       "      <td>3.294660e-10</td>\n",
       "      <td>1.045390e-09</td>\n",
       "      <td>5.418150e-12</td>\n",
       "      <td>2.397850e-12</td>\n",
       "      <td>2.027030e-10</td>\n",
       "      <td>1.524250e-12</td>\n",
       "      <td>1.746750e-12</td>\n",
       "      <td>7.261810e-13</td>\n",
       "      <td>3.283740e-12</td>\n",
       "      <td>1.642100e-11</td>\n",
       "    </tr>\n",
       "    <tr>\n",
       "      <th>104</th>\n",
       "      <td>77</td>\n",
       "      <td>19.04.2022</td>\n",
       "      <td>22:42:10:60</td>\n",
       "      <td>6.265</td>\n",
       "      <td>7.104830e-09</td>\n",
       "      <td>9.100010e-12</td>\n",
       "      <td>3.920730e-13</td>\n",
       "      <td>7.052510e-14</td>\n",
       "      <td>3.469830e-11</td>\n",
       "      <td>3.786970e-12</td>\n",
       "      <td>...</td>\n",
       "      <td>1.940580e-10</td>\n",
       "      <td>5.933210e-10</td>\n",
       "      <td>3.295110e-12</td>\n",
       "      <td>1.607970e-12</td>\n",
       "      <td>3.290250e-10</td>\n",
       "      <td>1.624350e-12</td>\n",
       "      <td>1.544730e-12</td>\n",
       "      <td>6.188010e-13</td>\n",
       "      <td>2.300480e-12</td>\n",
       "      <td>1.921470e-11</td>\n",
       "    </tr>\n",
       "    <tr>\n",
       "      <th>105</th>\n",
       "      <td>78</td>\n",
       "      <td>19.04.2022</td>\n",
       "      <td>22:42:12:68</td>\n",
       "      <td>8.344</td>\n",
       "      <td>6.444710e-09</td>\n",
       "      <td>9.172810e-12</td>\n",
       "      <td>3.364040e-13</td>\n",
       "      <td>6.370000e-14</td>\n",
       "      <td>6.546090e-11</td>\n",
       "      <td>3.295110e-12</td>\n",
       "      <td>...</td>\n",
       "      <td>1.191190e-10</td>\n",
       "      <td>3.584490e-10</td>\n",
       "      <td>2.386930e-12</td>\n",
       "      <td>1.051960e-12</td>\n",
       "      <td>6.278550e-10</td>\n",
       "      <td>2.160800e-12</td>\n",
       "      <td>1.453270e-12</td>\n",
       "      <td>5.214310e-13</td>\n",
       "      <td>1.716260e-12</td>\n",
       "      <td>1.369100e-11</td>\n",
       "    </tr>\n",
       "  </tbody>\n",
       "</table>\n",
       "<p>5 rows × 23 columns</p>\n",
       "</div>"
      ],
      "text/plain": [
       "    Cycle        Date         Time  RelTime[s]             1             2  \\\n",
       "101    74  19.04.2022  22:42:04:34       0.000  1.581580e-10  5.268910e-13   \n",
       "102    75  19.04.2022  22:42:06:43       2.094  2.102560e-09  2.541630e-12   \n",
       "103    76  19.04.2022  22:42:08:53       4.187  3.817910e-09  4.418510e-12   \n",
       "104    77  19.04.2022  22:42:10:60       6.265  7.104830e-09  9.100010e-12   \n",
       "105    78  19.04.2022  22:42:12:68       8.344  6.444710e-09  9.172810e-12   \n",
       "\n",
       "                3             4             5             6  ...  \\\n",
       "101  1.457010e-13  8.508510e-14  9.213310e-12  7.780510e-13  ...   \n",
       "102  1.598410e-13  1.324050e-13  2.416510e-11  2.096190e-12  ...   \n",
       "103  2.469030e-13  5.222620e-14  2.381020e-11  3.388390e-12  ...   \n",
       "104  3.920730e-13  7.052510e-14  3.469830e-11  3.786970e-12  ...   \n",
       "105  3.364040e-13  6.370000e-14  6.546090e-11  3.295110e-12  ...   \n",
       "\n",
       "               10            11            12            13            14  \\\n",
       "101  6.284010e-10  2.281850e-09  1.053330e-11  4.721540e-12  1.933300e-10   \n",
       "102  5.665210e-10  1.856860e-09  8.076260e-12  3.692780e-12  1.594320e-10   \n",
       "103  3.294660e-10  1.045390e-09  5.418150e-12  2.397850e-12  2.027030e-10   \n",
       "104  1.940580e-10  5.933210e-10  3.295110e-12  1.607970e-12  3.290250e-10   \n",
       "105  1.191190e-10  3.584490e-10  2.386930e-12  1.051960e-12  6.278550e-10   \n",
       "\n",
       "               15            16            17            18            19  \n",
       "101  9.718810e-13  9.953430e-13  4.964060e-13  1.041500e-12  9.473110e-12  \n",
       "102  1.148420e-12  1.869140e-12  5.205210e-13  1.943310e-12  1.071980e-11  \n",
       "103  1.524250e-12  1.746750e-12  7.261810e-13  3.283740e-12  1.642100e-11  \n",
       "104  1.624350e-12  1.544730e-12  6.188010e-13  2.300480e-12  1.921470e-11  \n",
       "105  2.160800e-12  1.453270e-12  5.214310e-13  1.716260e-12  1.369100e-11  \n",
       "\n",
       "[5 rows x 23 columns]"
      ]
     },
     "execution_count": 11,
     "metadata": {},
     "output_type": "execute_result"
    }
   ],
   "source": [
    "data.head()"
   ]
  },
  {
   "cell_type": "code",
   "execution_count": 12,
   "id": "5d5cba30",
   "metadata": {
    "colab": {
     "base_uri": "https://localhost:8080/",
     "height": 204
    },
    "id": "7gX8M1v9_TtC",
    "outputId": "3d564e90-5f45-426e-d141-a3a916999d20",
    "scrolled": true
   },
   "outputs": [
    {
     "data": {
      "text/html": [
       "<div>\n",
       "<style scoped>\n",
       "    .dataframe tbody tr th:only-of-type {\n",
       "        vertical-align: middle;\n",
       "    }\n",
       "\n",
       "    .dataframe tbody tr th {\n",
       "        vertical-align: top;\n",
       "    }\n",
       "\n",
       "    .dataframe thead th {\n",
       "        text-align: right;\n",
       "    }\n",
       "</style>\n",
       "<table border=\"1\" class=\"dataframe\">\n",
       "  <thead>\n",
       "    <tr style=\"text-align: right;\">\n",
       "      <th></th>\n",
       "      <th>t, s</th>\n",
       "      <th>Tg, C</th>\n",
       "      <th>Tr, C</th>\n",
       "      <th>P, %</th>\n",
       "    </tr>\n",
       "  </thead>\n",
       "  <tbody>\n",
       "    <tr>\n",
       "      <th>0</th>\n",
       "      <td>0.14</td>\n",
       "      <td>30.0</td>\n",
       "      <td>29.24</td>\n",
       "      <td>0.0</td>\n",
       "    </tr>\n",
       "    <tr>\n",
       "      <th>1</th>\n",
       "      <td>0.25</td>\n",
       "      <td>30.0</td>\n",
       "      <td>30.00</td>\n",
       "      <td>30.0</td>\n",
       "    </tr>\n",
       "    <tr>\n",
       "      <th>2</th>\n",
       "      <td>0.36</td>\n",
       "      <td>30.0</td>\n",
       "      <td>30.00</td>\n",
       "      <td>30.0</td>\n",
       "    </tr>\n",
       "    <tr>\n",
       "      <th>3</th>\n",
       "      <td>0.48</td>\n",
       "      <td>30.0</td>\n",
       "      <td>30.00</td>\n",
       "      <td>30.0</td>\n",
       "    </tr>\n",
       "    <tr>\n",
       "      <th>4</th>\n",
       "      <td>0.59</td>\n",
       "      <td>30.0</td>\n",
       "      <td>30.00</td>\n",
       "      <td>30.0</td>\n",
       "    </tr>\n",
       "  </tbody>\n",
       "</table>\n",
       "</div>"
      ],
      "text/plain": [
       "   t, s  Tg, C  Tr, C  P, %\n",
       "0  0.14   30.0  29.24   0.0\n",
       "1  0.25   30.0  30.00  30.0\n",
       "2  0.36   30.0  30.00  30.0\n",
       "3  0.48   30.0  30.00  30.0\n",
       "4  0.59   30.0  30.00  30.0"
      ]
     },
     "execution_count": 12,
     "metadata": {},
     "output_type": "execute_result"
    }
   ],
   "source": [
    "temp.head()"
   ]
  },
  {
   "cell_type": "code",
   "execution_count": 36,
   "id": "7332ed55",
   "metadata": {
    "colab": {
     "base_uri": "https://localhost:8080/",
     "height": 1000
    },
    "id": "b_NVhpDw7888",
    "outputId": "a0625982-d217-431a-ae0d-9696b9f9dd5c"
   },
   "outputs": [
    {
     "data": {
      "image/png": "[encoded data removed]",
      "text/plain": [
       "<Figure size 432x288 with 2 Axes>"
      ]
     },
     "metadata": {
      "needs_background": "light"
     },
     "output_type": "display_data"
    },
    {
     "data": {
      "image/png": "[encoded data removed]",
      "text/plain": [
       "<Figure size 432x288 with 2 Axes>"
      ]
     },
     "metadata": {
      "needs_background": "light"
     },
     "output_type": "display_data"
    },
    {
     "data": {
      "image/png": "[encoded data removed]",
      "text/plain": [
       "<Figure size 432x288 with 2 Axes>"
      ]
     },
     "metadata": {
      "needs_background": "light"
     },
     "output_type": "display_data"
    },
    {
     "data": {
      "image/png": "[encoded data removed]",
      "text/plain": [
       "<Figure size 432x288 with 2 Axes>"
      ]
     },
     "metadata": {
      "needs_background": "light"
     },
     "output_type": "display_data"
    }
   ],
   "source": [
    "titles = [3, 4, 19, 20]\n",
    "arr_of_integrals = []\n",
    "for idx, need_col in enumerate(['2', '3', '12', '13']):\n",
    "  x = data['RelTime[s]']\n",
    "  y = data[need_col]\n",
    "  arr_of_integrals.append(np.trapz(y, x))\n",
    "  x1 = temp['t, s']\n",
    "  y1 = temp['Tr, C'] + 273\n",
    "  fig,ax = plt.subplots()\n",
    "  ax.plot(x, y, color='teal',linewidth=3, label = \"I(t)\")\n",
    "  ax.grid()\n",
    "\n",
    "\n",
    "  ax.set_title(f'График зависимости тока и температуры от времени\\n для массы {titles[idx]}')\n",
    "  ax.set_ylabel('I, A')\n",
    "  ax.set_xlabel('t, с')\n",
    "  ax2 = ax.twinx()\n",
    "  ax2.plot(x1, y1, color='orange', linewidth=3, label = \"T(t)\")\n",
    "\n",
    "  # Align to 0\n",
    "  #ax2.set_ylim(bottom=0)\n",
    "  ax2.set_ylabel('T, K')\n",
    "  ax.legend(loc='center right')\n",
    "  ax2.legend(loc='upper left')\n",
    "\n",
    "\n",
    "  plt.show()\n"
   ]
  },
  {
   "cell_type": "code",
   "execution_count": 14,
   "id": "9848ac21",
   "metadata": {
    "colab": {
     "base_uri": "https://localhost:8080/"
    },
    "id": "7lyBrDtSQFCX",
    "outputId": "8a49cfee-8add-488d-e6f2-2f6675a380d4"
   },
   "outputs": [
    {
     "data": {
      "text/plain": [
       "[1.6052438812730996e-08,\n",
       " 2.6260880864209995e-09,\n",
       " 6.855391582299999e-09,\n",
       " 2.205187228989e-09]"
      ]
     },
     "execution_count": 14,
     "metadata": {},
     "output_type": "execute_result"
    }
   ],
   "source": [
    "arr_of_integrals"
   ]
  },
  {
   "cell_type": "code",
   "execution_count": 15,
   "id": "9d5955f2",
   "metadata": {
    "id": "d3qnTwWVSBiV"
   },
   "outputs": [
    {
     "data": {
      "text/html": [
       "<div>\n",
       "<style scoped>\n",
       "    .dataframe tbody tr th:only-of-type {\n",
       "        vertical-align: middle;\n",
       "    }\n",
       "\n",
       "    .dataframe tbody tr th {\n",
       "        vertical-align: top;\n",
       "    }\n",
       "\n",
       "    .dataframe thead th {\n",
       "        text-align: right;\n",
       "    }\n",
       "</style>\n",
       "<table border=\"1\" class=\"dataframe\">\n",
       "  <thead>\n",
       "    <tr style=\"text-align: right;\">\n",
       "      <th></th>\n",
       "      <th>Cycle</th>\n",
       "      <th>Date</th>\n",
       "      <th>Time</th>\n",
       "      <th>RelTime[s]</th>\n",
       "      <th>1</th>\n",
       "      <th>2</th>\n",
       "      <th>3</th>\n",
       "      <th>4</th>\n",
       "      <th>5</th>\n",
       "      <th>6</th>\n",
       "      <th>...</th>\n",
       "      <th>11</th>\n",
       "      <th>12</th>\n",
       "      <th>13</th>\n",
       "      <th>14</th>\n",
       "      <th>15</th>\n",
       "      <th>16</th>\n",
       "      <th>17</th>\n",
       "      <th>18</th>\n",
       "      <th>19</th>\n",
       "      <th>20</th>\n",
       "    </tr>\n",
       "  </thead>\n",
       "  <tbody>\n",
       "    <tr>\n",
       "      <th>28</th>\n",
       "      <td>1</td>\n",
       "      <td>19.04.2022</td>\n",
       "      <td>23:53:53:00</td>\n",
       "      <td>0</td>\n",
       "      <td>6.3964E-011</td>\n",
       "      <td>5.369E-013</td>\n",
       "      <td>1.47804E-013</td>\n",
       "      <td>8.78151E-014</td>\n",
       "      <td>1.49559E-012</td>\n",
       "      <td>3.3124E-013</td>\n",
       "      <td>...</td>\n",
       "      <td>2.64628E-011</td>\n",
       "      <td>5.19156E-013</td>\n",
       "      <td>3.50786E-013</td>\n",
       "      <td>7.12849E-012</td>\n",
       "      <td>4.6774E-013</td>\n",
       "      <td>5.96961E-013</td>\n",
       "      <td>3.4671E-013</td>\n",
       "      <td>3.3761E-013</td>\n",
       "      <td>2.66676E-012</td>\n",
       "      <td>NaN</td>\n",
       "    </tr>\n",
       "    <tr>\n",
       "      <th>29</th>\n",
       "      <td>2</td>\n",
       "      <td>19.04.2022</td>\n",
       "      <td>23:53:55:09</td>\n",
       "      <td>2.094</td>\n",
       "      <td>6.46874E-011</td>\n",
       "      <td>5.48276E-013</td>\n",
       "      <td>1.50328E-013</td>\n",
       "      <td>1.63345E-013</td>\n",
       "      <td>1.66485E-012</td>\n",
       "      <td>4.46355E-013</td>\n",
       "      <td>...</td>\n",
       "      <td>2.6704E-011</td>\n",
       "      <td>4.37255E-013</td>\n",
       "      <td>3.49915E-013</td>\n",
       "      <td>7.0698E-012</td>\n",
       "      <td>4.3589E-013</td>\n",
       "      <td>5.67841E-013</td>\n",
       "      <td>2.58895E-013</td>\n",
       "      <td>3.8948E-013</td>\n",
       "      <td>2.5885E-012</td>\n",
       "      <td>NaN</td>\n",
       "    </tr>\n",
       "    <tr>\n",
       "      <th>30</th>\n",
       "      <td>3</td>\n",
       "      <td>19.04.2022</td>\n",
       "      <td>23:53:57:18</td>\n",
       "      <td>4.187</td>\n",
       "      <td>6.33543E-011</td>\n",
       "      <td>5.58286E-013</td>\n",
       "      <td>1.51759E-013</td>\n",
       "      <td>1.22296E-013</td>\n",
       "      <td>1.42779E-012</td>\n",
       "      <td>3.81745E-013</td>\n",
       "      <td>...</td>\n",
       "      <td>2.63437E-011</td>\n",
       "      <td>6.15161E-013</td>\n",
       "      <td>3.46255E-013</td>\n",
       "      <td>7.58941E-012</td>\n",
       "      <td>4.1587E-013</td>\n",
       "      <td>4.86851E-013</td>\n",
       "      <td>2.98935E-013</td>\n",
       "      <td>3.49895E-013</td>\n",
       "      <td>2.80144E-012</td>\n",
       "      <td>NaN</td>\n",
       "    </tr>\n",
       "    <tr>\n",
       "      <th>31</th>\n",
       "      <td>4</td>\n",
       "      <td>19.04.2022</td>\n",
       "      <td>23:53:59:28</td>\n",
       "      <td>6.281</td>\n",
       "      <td>6.39685E-011</td>\n",
       "      <td>5.61471E-013</td>\n",
       "      <td>1.54473E-013</td>\n",
       "      <td>1.27519E-013</td>\n",
       "      <td>1.37274E-012</td>\n",
       "      <td>3.4034E-013</td>\n",
       "      <td>...</td>\n",
       "      <td>2.6613E-011</td>\n",
       "      <td>4.186E-013</td>\n",
       "      <td>3.89025E-013</td>\n",
       "      <td>7.51979E-012</td>\n",
       "      <td>4.41805E-013</td>\n",
       "      <td>5.18245E-013</td>\n",
       "      <td>2.70725E-013</td>\n",
       "      <td>4.18145E-013</td>\n",
       "      <td>2.50478E-012</td>\n",
       "      <td>NaN</td>\n",
       "    </tr>\n",
       "    <tr>\n",
       "      <th>32</th>\n",
       "      <td>5</td>\n",
       "      <td>19.04.2022</td>\n",
       "      <td>23:54:01:35</td>\n",
       "      <td>8.359</td>\n",
       "      <td>6.32724E-011</td>\n",
       "      <td>5.91046E-013</td>\n",
       "      <td>1.50881E-013</td>\n",
       "      <td>9.37301E-014</td>\n",
       "      <td>1.54427E-012</td>\n",
       "      <td>3.6036E-013</td>\n",
       "      <td>...</td>\n",
       "      <td>2.61125E-011</td>\n",
       "      <td>4.73655E-013</td>\n",
       "      <td>3.2396E-013</td>\n",
       "      <td>7.14078E-012</td>\n",
       "      <td>4.28155E-013</td>\n",
       "      <td>6.29721E-013</td>\n",
       "      <td>2.84375E-013</td>\n",
       "      <td>4.06315E-013</td>\n",
       "      <td>2.68405E-012</td>\n",
       "      <td>NaN</td>\n",
       "    </tr>\n",
       "    <tr>\n",
       "      <th>...</th>\n",
       "      <td>...</td>\n",
       "      <td>...</td>\n",
       "      <td>...</td>\n",
       "      <td>...</td>\n",
       "      <td>...</td>\n",
       "      <td>...</td>\n",
       "      <td>...</td>\n",
       "      <td>...</td>\n",
       "      <td>...</td>\n",
       "      <td>...</td>\n",
       "      <td>...</td>\n",
       "      <td>...</td>\n",
       "      <td>...</td>\n",
       "      <td>...</td>\n",
       "      <td>...</td>\n",
       "      <td>...</td>\n",
       "      <td>...</td>\n",
       "      <td>...</td>\n",
       "      <td>...</td>\n",
       "      <td>...</td>\n",
       "      <td>...</td>\n",
       "    </tr>\n",
       "    <tr>\n",
       "      <th>304</th>\n",
       "      <td>277</td>\n",
       "      <td>20.04.2022</td>\n",
       "      <td>0:02:52:68</td>\n",
       "      <td>539.687</td>\n",
       "      <td>1.47648E-010</td>\n",
       "      <td>2.56939E-011</td>\n",
       "      <td>5.07882E-009</td>\n",
       "      <td>4.81845E-013</td>\n",
       "      <td>1.94695E-012</td>\n",
       "      <td>5.59195E-013</td>\n",
       "      <td>...</td>\n",
       "      <td>4.6501E-011</td>\n",
       "      <td>1.69033E-012</td>\n",
       "      <td>6.45191E-013</td>\n",
       "      <td>4.10046E-011</td>\n",
       "      <td>5.00955E-013</td>\n",
       "      <td>4.9231E-012</td>\n",
       "      <td>2.99845E-013</td>\n",
       "      <td>8.84521E-013</td>\n",
       "      <td>2.87879E-012</td>\n",
       "      <td>NaN</td>\n",
       "    </tr>\n",
       "    <tr>\n",
       "      <th>305</th>\n",
       "      <td>278</td>\n",
       "      <td>20.04.2022</td>\n",
       "      <td>0:02:54:56</td>\n",
       "      <td>541.562</td>\n",
       "      <td>1.47408E-010</td>\n",
       "      <td>2.67267E-011</td>\n",
       "      <td>5.07729E-009</td>\n",
       "      <td>4.2588E-013</td>\n",
       "      <td>1.71717E-012</td>\n",
       "      <td>4.88216E-013</td>\n",
       "      <td>...</td>\n",
       "      <td>4.65283E-011</td>\n",
       "      <td>1.78861E-012</td>\n",
       "      <td>5.68296E-013</td>\n",
       "      <td>4.13732E-011</td>\n",
       "      <td>4.5409E-013</td>\n",
       "      <td>4.93994E-012</td>\n",
       "      <td>2.73E-013</td>\n",
       "      <td>9.95541E-013</td>\n",
       "      <td>2.72882E-012</td>\n",
       "      <td>NaN</td>\n",
       "    </tr>\n",
       "    <tr>\n",
       "      <th>306</th>\n",
       "      <td>279</td>\n",
       "      <td>20.04.2022</td>\n",
       "      <td>0:02:56:45</td>\n",
       "      <td>543.453</td>\n",
       "      <td>1.4874E-010</td>\n",
       "      <td>2.61534E-011</td>\n",
       "      <td>5.08214E-009</td>\n",
       "      <td>4.67285E-013</td>\n",
       "      <td>1.83866E-012</td>\n",
       "      <td>4.3953E-013</td>\n",
       "      <td>...</td>\n",
       "      <td>4.58504E-011</td>\n",
       "      <td>1.99927E-012</td>\n",
       "      <td>5.96506E-013</td>\n",
       "      <td>4.03494E-011</td>\n",
       "      <td>4.4408E-013</td>\n",
       "      <td>4.49313E-012</td>\n",
       "      <td>2.548E-013</td>\n",
       "      <td>9.73246E-013</td>\n",
       "      <td>2.70531E-012</td>\n",
       "      <td>NaN</td>\n",
       "    </tr>\n",
       "    <tr>\n",
       "      <th>307</th>\n",
       "      <td>280</td>\n",
       "      <td>20.04.2022</td>\n",
       "      <td>0:02:58:32</td>\n",
       "      <td>545.328</td>\n",
       "      <td>1.47375E-010</td>\n",
       "      <td>2.58395E-011</td>\n",
       "      <td>5.07433E-009</td>\n",
       "      <td>4.77295E-013</td>\n",
       "      <td>1.63072E-012</td>\n",
       "      <td>4.1223E-013</td>\n",
       "      <td>...</td>\n",
       "      <td>4.50223E-011</td>\n",
       "      <td>1.70807E-012</td>\n",
       "      <td>5.86041E-013</td>\n",
       "      <td>4.07999E-011</td>\n",
       "      <td>3.9312E-013</td>\n",
       "      <td>4.44262E-012</td>\n",
       "      <td>3.3215E-013</td>\n",
       "      <td>9.90991E-013</td>\n",
       "      <td>2.94613E-012</td>\n",
       "      <td>NaN</td>\n",
       "    </tr>\n",
       "    <tr>\n",
       "      <th>308</th>\n",
       "      <td>281</td>\n",
       "      <td>20.04.2022</td>\n",
       "      <td>0:03:00:20</td>\n",
       "      <td>547.203</td>\n",
       "      <td>1.47966E-010</td>\n",
       "      <td>2.58213E-011</td>\n",
       "      <td>5.07489E-009</td>\n",
       "      <td>4.56365E-013</td>\n",
       "      <td>1.75949E-012</td>\n",
       "      <td>4.94586E-013</td>\n",
       "      <td>...</td>\n",
       "      <td>4.58094E-011</td>\n",
       "      <td>1.77405E-012</td>\n",
       "      <td>6.00146E-013</td>\n",
       "      <td>4.05405E-011</td>\n",
       "      <td>4.5864E-013</td>\n",
       "      <td>4.56957E-012</td>\n",
       "      <td>2.16125E-013</td>\n",
       "      <td>7.93976E-013</td>\n",
       "      <td>2.47111E-012</td>\n",
       "      <td>NaN</td>\n",
       "    </tr>\n",
       "  </tbody>\n",
       "</table>\n",
       "<p>281 rows × 24 columns</p>\n",
       "</div>"
      ],
      "text/plain": [
       "    Cycle        Date         Time RelTime[s]             1             2  \\\n",
       "28      1  19.04.2022  23:53:53:00          0   6.3964E-011    5.369E-013   \n",
       "29      2  19.04.2022  23:53:55:09      2.094  6.46874E-011  5.48276E-013   \n",
       "30      3  19.04.2022  23:53:57:18      4.187  6.33543E-011  5.58286E-013   \n",
       "31      4  19.04.2022  23:53:59:28      6.281  6.39685E-011  5.61471E-013   \n",
       "32      5  19.04.2022  23:54:01:35      8.359  6.32724E-011  5.91046E-013   \n",
       "..    ...         ...          ...        ...           ...           ...   \n",
       "304   277  20.04.2022   0:02:52:68    539.687  1.47648E-010  2.56939E-011   \n",
       "305   278  20.04.2022   0:02:54:56    541.562  1.47408E-010  2.67267E-011   \n",
       "306   279  20.04.2022   0:02:56:45    543.453   1.4874E-010  2.61534E-011   \n",
       "307   280  20.04.2022   0:02:58:32    545.328  1.47375E-010  2.58395E-011   \n",
       "308   281  20.04.2022   0:03:00:20    547.203  1.47966E-010  2.58213E-011   \n",
       "\n",
       "                3             4             5             6  ...  \\\n",
       "28   1.47804E-013  8.78151E-014  1.49559E-012   3.3124E-013  ...   \n",
       "29   1.50328E-013  1.63345E-013  1.66485E-012  4.46355E-013  ...   \n",
       "30   1.51759E-013  1.22296E-013  1.42779E-012  3.81745E-013  ...   \n",
       "31   1.54473E-013  1.27519E-013  1.37274E-012   3.4034E-013  ...   \n",
       "32   1.50881E-013  9.37301E-014  1.54427E-012   3.6036E-013  ...   \n",
       "..            ...           ...           ...           ...  ...   \n",
       "304  5.07882E-009  4.81845E-013  1.94695E-012  5.59195E-013  ...   \n",
       "305  5.07729E-009   4.2588E-013  1.71717E-012  4.88216E-013  ...   \n",
       "306  5.08214E-009  4.67285E-013  1.83866E-012   4.3953E-013  ...   \n",
       "307  5.07433E-009  4.77295E-013  1.63072E-012   4.1223E-013  ...   \n",
       "308  5.07489E-009  4.56365E-013  1.75949E-012  4.94586E-013  ...   \n",
       "\n",
       "               11            12            13            14            15  \\\n",
       "28   2.64628E-011  5.19156E-013  3.50786E-013  7.12849E-012   4.6774E-013   \n",
       "29    2.6704E-011  4.37255E-013  3.49915E-013   7.0698E-012   4.3589E-013   \n",
       "30   2.63437E-011  6.15161E-013  3.46255E-013  7.58941E-012   4.1587E-013   \n",
       "31    2.6613E-011    4.186E-013  3.89025E-013  7.51979E-012  4.41805E-013   \n",
       "32   2.61125E-011  4.73655E-013   3.2396E-013  7.14078E-012  4.28155E-013   \n",
       "..            ...           ...           ...           ...           ...   \n",
       "304   4.6501E-011  1.69033E-012  6.45191E-013  4.10046E-011  5.00955E-013   \n",
       "305  4.65283E-011  1.78861E-012  5.68296E-013  4.13732E-011   4.5409E-013   \n",
       "306  4.58504E-011  1.99927E-012  5.96506E-013  4.03494E-011   4.4408E-013   \n",
       "307  4.50223E-011  1.70807E-012  5.86041E-013  4.07999E-011   3.9312E-013   \n",
       "308  4.58094E-011  1.77405E-012  6.00146E-013  4.05405E-011   4.5864E-013   \n",
       "\n",
       "               16            17            18            19  20  \n",
       "28   5.96961E-013   3.4671E-013   3.3761E-013  2.66676E-012 NaN  \n",
       "29   5.67841E-013  2.58895E-013   3.8948E-013   2.5885E-012 NaN  \n",
       "30   4.86851E-013  2.98935E-013  3.49895E-013  2.80144E-012 NaN  \n",
       "31   5.18245E-013  2.70725E-013  4.18145E-013  2.50478E-012 NaN  \n",
       "32   6.29721E-013  2.84375E-013  4.06315E-013  2.68405E-012 NaN  \n",
       "..            ...           ...           ...           ...  ..  \n",
       "304   4.9231E-012  2.99845E-013  8.84521E-013  2.87879E-012 NaN  \n",
       "305  4.93994E-012     2.73E-013  9.95541E-013  2.72882E-012 NaN  \n",
       "306  4.49313E-012    2.548E-013  9.73246E-013  2.70531E-012 NaN  \n",
       "307  4.44262E-012   3.3215E-013  9.90991E-013  2.94613E-012 NaN  \n",
       "308  4.56957E-012  2.16125E-013  7.93976E-013  2.47111E-012 NaN  \n",
       "\n",
       "[281 rows x 24 columns]"
      ]
     },
     "execution_count": 15,
     "metadata": {},
     "output_type": "execute_result"
    }
   ],
   "source": [
    "calibr = pd.read_csv('calibr_(s220403).asc', sep = '\\t', names = cols)\n",
    "calibr=calibr.drop(labels=range(0,28), axis=0)\n",
    "calibr"
   ]
  },
  {
   "cell_type": "code",
   "execution_count": 16,
   "id": "d934ee6e",
   "metadata": {
    "id": "IYJz6RvBSoyz"
   },
   "outputs": [],
   "source": [
    "calibr = calibr.iloc[2:]\n",
    "calibr = calibr.drop(labels=['20'], axis=1)\n",
    "cols_to_float = ['RelTime[s]'] + [str(i+1) for i in range(19)]\n",
    "# cols_to_float\n",
    "calibr[cols_to_float] = calibr[cols_to_float].astype(float)\n",
    "calibr = calibr[calibr['RelTime[s]'] > temp['t, s'].iloc[0]]"
   ]
  },
  {
   "cell_type": "code",
   "execution_count": 17,
   "id": "8681b314",
   "metadata": {
    "id": "j_NPR8G0SskR"
   },
   "outputs": [
    {
     "data": {
      "text/plain": [
       "30       4.187\n",
       "31       6.281\n",
       "32       8.359\n",
       "33      10.453\n",
       "34      12.531\n",
       "        ...   \n",
       "304    539.687\n",
       "305    541.562\n",
       "306    543.453\n",
       "307    545.328\n",
       "308    547.203\n",
       "Name: RelTime[s], Length: 279, dtype: float64"
      ]
     },
     "execution_count": 17,
     "metadata": {},
     "output_type": "execute_result"
    }
   ],
   "source": [
    "y_calibr = calibr['3']\n",
    "x_calibr = calibr['RelTime[s]']\n",
    "x_calibr"
   ]
  },
  {
   "cell_type": "code",
   "execution_count": 18,
   "id": "cdf40406",
   "metadata": {
    "id": "jWywpQSmUY_n"
   },
   "outputs": [],
   "source": [
    "I0 = calibr[ calibr['RelTime[s]'] > 500]['3'].mean()\n",
    "I0 = [I0 for i in range(len(x_calibr))]"
   ]
  },
  {
   "cell_type": "code",
   "execution_count": 19,
   "id": "666d0f4b",
   "metadata": {
    "colab": {
     "base_uri": "https://localhost:8080/",
     "height": 295
    },
    "id": "j9zjtX0WTKlU",
    "outputId": "92472672-b39c-4c7f-c135-7c5c5710be19",
    "scrolled": true
   },
   "outputs": [
    {
     "data": {
      "image/png": "[encoded data removed]",
      "text/plain": [
       "<Figure size 432x288 with 1 Axes>"
      ]
     },
     "metadata": {
      "needs_background": "light"
     },
     "output_type": "display_data"
    }
   ],
   "source": [
    "plt.plot(x_calibr, y_calibr, label='I(t)')\n",
    "plt.plot(x_calibr, I0,  '--', color='red', linewidth=2 , label='I0')\n",
    "plt.xlabel('t, c')\n",
    "plt.ylabel('I, A')\n",
    "plt.title('Калибровочный график для массы 4')\n",
    "plt.ylim([0,0.4e-7])\n",
    "plt.grid()\n",
    "\n",
    "plt.legend()\n",
    "plt.show()"
   ]
  },
  {
   "cell_type": "code",
   "execution_count": 20,
   "id": "88adfb60",
   "metadata": {
    "id": "jSzcDagETxGD"
   },
   "outputs": [],
   "source": [
    "# baratron = pd.read_csv('/content/baratron_(wycr 3).txt', sep=\"\\t\", names = ['t','P'])\n",
    "baratron = pd.read_csv('baratron_(s220403).dat', sep=\"\\t\", names = ['t','P'])\n",
    "baratron['t'] = baratron['t'].apply(lambda x: float(x.replace(',','.')))\n",
    "baratron['P'] = baratron['P'].apply(lambda x: float(x.replace(',','.')))"
   ]
  },
  {
   "cell_type": "code",
   "execution_count": 21,
   "id": "d5bbf5ea",
   "metadata": {
    "id": "jRWci9xrYLZG"
   },
   "outputs": [],
   "source": [
    "x_bara = baratron['t']\n",
    "y_bara = baratron['P'] * 0.750062 # to Torr"
   ]
  },
  {
   "cell_type": "code",
   "execution_count": 22,
   "id": "92a443f8",
   "metadata": {
    "id": "Mp-B-pxoX-X3"
   },
   "outputs": [],
   "source": [
    "from scipy.optimize import curve_fit"
   ]
  },
  {
   "cell_type": "code",
   "execution_count": 23,
   "id": "1dd9cd97",
   "metadata": {
    "id": "bppWZG1M9_1U"
   },
   "outputs": [],
   "source": [
    "def objective(x, a, b):\n",
    "\treturn a * x + b"
   ]
  },
  {
   "cell_type": "code",
   "execution_count": 24,
   "id": "4d5ba16b",
   "metadata": {
    "id": "JaaSzu75-Fo0",
    "tags": []
   },
   "outputs": [],
   "source": [
    "fit_x = x_bara[150:300]\n",
    "fit_y = y_bara[150:300]"
   ]
  },
  {
   "cell_type": "code",
   "execution_count": 25,
   "id": "ae261dec",
   "metadata": {
    "id": "KmPYMMnb-LTj"
   },
   "outputs": [],
   "source": [
    "popt, _ = curve_fit(objective, fit_x, fit_y)\n",
    "a, b = popt"
   ]
  },
  {
   "cell_type": "code",
   "execution_count": 26,
   "id": "8a65f56f",
   "metadata": {
    "id": "RJ7wmI3m-aN9"
   },
   "outputs": [],
   "source": [
    "x_line = np.arange(min(fit_x), max(fit_x), 1)"
   ]
  },
  {
   "cell_type": "code",
   "execution_count": 27,
   "id": "187392b4",
   "metadata": {
    "id": "c9HSa1iH-bs4"
   },
   "outputs": [],
   "source": [
    "y_line = objective(x_line, a, b)"
   ]
  },
  {
   "cell_type": "code",
   "execution_count": 28,
   "id": "ddfb9e83",
   "metadata": {
    "colab": {
     "base_uri": "https://localhost:8080/",
     "height": 295
    },
    "id": "_z-WRcVZ-o3w",
    "outputId": "258e0ded-2739-43d7-b6bd-5f8b40973d38"
   },
   "outputs": [
    {
     "data": {
      "image/png": "[encoded data removed]",
      "text/plain": [
       "<Figure size 432x288 with 1 Axes>"
      ]
     },
     "metadata": {
      "needs_background": "light"
     },
     "output_type": "display_data"
    }
   ],
   "source": [
    "plt.plot(x_line, y_line, '--', color='red', linewidth=3, label = \"fitting\")\n",
    "plt.plot(x_bara, y_bara, label = \"P(t)\")\n",
    "plt.xlabel('t, c')\n",
    "plt.grid()\n",
    "plt.ylabel('P, Torr')\n",
    "plt.title('График зависимости давления от времени')\n",
    "plt.legend()\n",
    "plt.show()"
   ]
  },
  {
   "cell_type": "code",
   "execution_count": 29,
   "id": "39148715",
   "metadata": {
    "colab": {
     "base_uri": "https://localhost:8080/"
    },
    "id": "x5y7rvki-s_L",
    "outputId": "0ca7922a-79ef-4786-fda5-a5a02db8056f"
   },
   "outputs": [
    {
     "data": {
      "text/plain": [
       "(0.0003397107774464314, 5.098978461538462e-09)"
      ]
     },
     "execution_count": 29,
     "metadata": {},
     "output_type": "execute_result"
    }
   ],
   "source": [
    "a, I0[0]"
   ]
  },
  {
   "cell_type": "code",
   "execution_count": 30,
   "id": "dd8d99ce",
   "metadata": {
    "colab": {
     "base_uri": "https://localhost:8080/"
    },
    "id": "Zuv8BNRW_pIU",
    "outputId": "a7407cee-d5ea-4629-8aa8-c158b4c9129e"
   },
   "outputs": [
    {
     "data": {
      "text/plain": [
       "3464.411658229395"
      ]
     },
     "execution_count": 30,
     "metadata": {},
     "output_type": "execute_result"
    }
   ],
   "source": [
    " 5.2e-2 * a/I0[0]"
   ]
  },
  {
   "cell_type": "code",
   "execution_count": 31,
   "id": "2aa47aac",
   "metadata": {
    "colab": {
     "base_uri": "https://localhost:8080/"
    },
    "id": "k8L6uDHV_e-Z",
    "outputId": "d3ba84f9-4171-433f-e34e-288c40ef725a"
   },
   "outputs": [
    {
     "data": {
      "text/plain": [
       "1.2125440803802883e+23"
      ]
     },
     "execution_count": 31,
     "metadata": {},
     "output_type": "execute_result"
    }
   ],
   "source": [
    "k = 3.5e19 * 5.2e-2 * a/I0[0]\n",
    "k"
   ]
  },
  {
   "cell_type": "code",
   "execution_count": 32,
   "id": "10762c77",
   "metadata": {
    "id": "_vRFN9ST_wz0"
   },
   "outputs": [],
   "source": [
    "integrals_prod_coef = k * np.array(arr_of_integrals)"
   ]
  },
  {
   "cell_type": "code",
   "execution_count": 33,
   "id": "03ceac42",
   "metadata": {
    "id": "WbhIXaYa_xiP"
   },
   "outputs": [],
   "source": [
    "coef = [0.5, 2, 0.5, 2]\n",
    "for idx, c in enumerate(coef):\n",
    "  integrals_prod_coef[idx]*=c"
   ]
  },
  {
   "cell_type": "code",
   "execution_count": 34,
   "id": "87323c19",
   "metadata": {
    "colab": {
     "base_uri": "https://localhost:8080/"
    },
    "id": "NTKuHTrp3O0i",
    "outputId": "1c10605a-d797-4e00-958d-fb97f8081e9d"
   },
   "outputs": [
    {
     "data": {
      "text/plain": [
       "array([9.73214483e+14, 6.36849513e+14, 4.15623224e+14, 5.34777344e+14])"
      ]
     },
     "execution_count": 34,
     "metadata": {},
     "output_type": "execute_result"
    }
   ],
   "source": [
    "integrals_prod_coef"
   ]
  },
  {
   "cell_type": "code",
   "execution_count": 35,
   "id": "5987df16",
   "metadata": {
    "colab": {
     "base_uri": "https://localhost:8080/"
    },
    "id": "_vOolqY33Pfw",
    "outputId": "eb1dfc1b-4a52-41f7-c349-1c58837e8f00"
   },
   "outputs": [
    {
     "data": {
      "text/plain": [
       "2.5604645638700845"
      ]
     },
     "execution_count": 35,
     "metadata": {},
     "output_type": "execute_result"
    }
   ],
   "source": [
    "integrals_prod_coef.sum()/1e15"
   ]
  },
  {
   "cell_type": "code",
   "execution_count": null,
   "id": "91e7304c",
   "metadata": {
    "id": "1LbBPyvDESgc"
   },
   "outputs": [],
   "source": []
  },
  {
   "cell_type": "code",
   "execution_count": null,
   "id": "e5f149d6",
   "metadata": {},
   "outputs": [],
   "source": []
  }
 ],
 "metadata": {
  "colab": {
   "name": "hw.ipynb",
   "provenance": []
  },
  "kernelspec": {
   "display_name": "Python 3 (ipykernel)",
   "language": "python",
   "name": "python3"
  },
  "language_info": {
   "codemirror_mode": {
    "name": "ipython",
    "version": 3
   },
   "file_extension": ".py",
   "mimetype": "text/x-python",
   "name": "python",
   "nbconvert_exporter": "python",
   "pygments_lexer": "ipython3",
   "version": "3.9.6"
  },
  "varInspector": {
   "cols": {
    "lenName": 16,
    "lenType": 16,
    "lenVar": 40
   },
   "kernels_config": {
    "python": {
     "delete_cmd_postfix": "",
     "delete_cmd_prefix": "del ",
     "library": "var_list.py",
     "varRefreshCmd": "print(var_dic_list())"
    },
    "r": {
     "delete_cmd_postfix": ") ",
     "delete_cmd_prefix": "rm(",
     "library": "var_list.r",
     "varRefreshCmd": "cat(var_dic_list()) "
    }
   },
   "types_to_exclude": [
    "module",
    "function",
    "builtin_function_or_method",
    "instance",
    "_Feature"
   ],
   "window_display": false
  }
 },
 "nbformat": 4,
 "nbformat_minor": 5
}
