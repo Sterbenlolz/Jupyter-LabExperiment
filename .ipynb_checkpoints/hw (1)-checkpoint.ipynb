{
 "cells": [
  {
   "cell_type": "code",
   "execution_count": 3,
   "metadata": {
    "ExecuteTime": {
     "end_time": "2022-04-07T19:13:06.632478Z",
     "start_time": "2022-04-07T19:13:06.628203Z"
    },
    "id": "301c0ba4"
   },
   "outputs": [],
   "source": [
    "import pandas as pd\n",
    "import numpy as np\n",
    "import pickle\n",
    "import matplotlib.pyplot as plt\n"
   ]
  },
  {
   "cell_type": "code",
   "execution_count": 4,
   "metadata": {
    "id": "u8pa-KPZ1eCN"
   },
   "outputs": [],
   "source": [
    "cols = ['Cycle', 'Date', 'Time', 'RelTime[s]'] + [str(i+1) for i in range(20)]"
   ]
  },
  {
   "cell_type": "code",
   "execution_count": 41,
   "metadata": {
    "id": "0f573bdf"
   },
   "outputs": [],
   "source": [
    "data = pd.read_csv('s220403.asc', sep = '\\t', names = cols)\n",
    "data = data.drop(labels=range(0,28), axis=0)"
   ]
  },
  {
   "cell_type": "code",
   "execution_count": 42,
   "metadata": {
    "id": "R9qROc-000XN"
   },
   "outputs": [],
   "source": [
    "data = data.iloc[1:]\n",
    "data = data.drop(['20'], axis = 1)\n",
    "cols_to_float = ['RelTime[s]'] + [str(i+1) for i in range(19)]\n",
    "data[cols_to_float] = data[cols_to_float].astype(float)"
   ]
  },
  {
   "cell_type": "code",
   "execution_count": 43,
   "metadata": {
    "id": "mSHS0nCGBTku"
   },
   "outputs": [],
   "source": [
    "import datetime"
   ]
  },
  {
   "cell_type": "code",
   "execution_count": 44,
   "metadata": {
    "id": "YDobRM1DBD-7"
   },
   "outputs": [],
   "source": [
    "datetime_start = datetime.datetime.strptime('16:23:37', '%H:%M:%S')\n"
   ]
  },
  {
   "cell_type": "code",
   "execution_count": 45,
   "metadata": {
    "id": "uOF5xmIaAxfy"
   },
   "outputs": [],
   "source": [
    "data = data[data['Time'].apply(lambda x: datetime.datetime.strptime(x, '%H:%M:%S:%f'))>datetime_start]"
   ]
  },
  {
   "cell_type": "code",
   "execution_count": 46,
   "metadata": {
    "id": "kzzaTvDBAs2U"
   },
   "outputs": [],
   "source": [
    "#Date and time: 17.02.2022 16:23:37\n"
   ]
  },
  {
   "cell_type": "code",
   "execution_count": 53,
   "metadata": {
    "id": "1S4lmv4m-3s5"
   },
   "outputs": [],
   "source": [
    "# temp = pd.read_csv('/content/temp_WYCr 3.txt', sep=\"\\t\")\n",
    "temp = pd.read_csv('temp_S220403.txt', sep=\"\\t\")\n",
    "# temp = np.loadtxt('temp_S220403.txt', skiprows=6)\n",
    "# temp\n",
    "for col in temp.columns:\n",
    "  temp[col] = temp[col].apply(lambda x: float(x.replace(',','.')))"
   ]
  },
  {
   "cell_type": "code",
   "execution_count": 54,
   "metadata": {
    "id": "B1paPQcO-4rK"
   },
   "outputs": [],
   "source": [
    "data['RelTime[s]'] = data['RelTime[s]'] - data['RelTime[s]'].iloc[0]"
   ]
  },
  {
   "cell_type": "code",
   "execution_count": 55,
   "metadata": {
    "colab": {
     "base_uri": "https://localhost:8080/",
     "height": 382
    },
    "id": "wtol0xh9_Sk_",
    "outputId": "62499e28-3ad7-4a70-9309-c993ae0acdae",
    "scrolled": true
   },
   "outputs": [
    {
     "data": {
      "text/html": [
       "<div>\n",
       "<style scoped>\n",
       "    .dataframe tbody tr th:only-of-type {\n",
       "        vertical-align: middle;\n",
       "    }\n",
       "\n",
       "    .dataframe tbody tr th {\n",
       "        vertical-align: top;\n",
       "    }\n",
       "\n",
       "    .dataframe thead th {\n",
       "        text-align: right;\n",
       "    }\n",
       "</style>\n",
       "<table border=\"1\" class=\"dataframe\">\n",
       "  <thead>\n",
       "    <tr style=\"text-align: right;\">\n",
       "      <th></th>\n",
       "      <th>Cycle</th>\n",
       "      <th>Date</th>\n",
       "      <th>Time</th>\n",
       "      <th>RelTime[s]</th>\n",
       "      <th>1</th>\n",
       "      <th>2</th>\n",
       "      <th>3</th>\n",
       "      <th>4</th>\n",
       "      <th>5</th>\n",
       "      <th>6</th>\n",
       "      <th>...</th>\n",
       "      <th>10</th>\n",
       "      <th>11</th>\n",
       "      <th>12</th>\n",
       "      <th>13</th>\n",
       "      <th>14</th>\n",
       "      <th>15</th>\n",
       "      <th>16</th>\n",
       "      <th>17</th>\n",
       "      <th>18</th>\n",
       "      <th>19</th>\n",
       "    </tr>\n",
       "  </thead>\n",
       "  <tbody>\n",
       "    <tr>\n",
       "      <th>29</th>\n",
       "      <td>2</td>\n",
       "      <td>19.04.2022</td>\n",
       "      <td>22:39:34:10</td>\n",
       "      <td>0.000</td>\n",
       "      <td>4.874420e-11</td>\n",
       "      <td>5.036860e-13</td>\n",
       "      <td>1.397840e-13</td>\n",
       "      <td>9.964510e-14</td>\n",
       "      <td>1.235330e-12</td>\n",
       "      <td>4.117750e-13</td>\n",
       "      <td>...</td>\n",
       "      <td>8.236870e-12</td>\n",
       "      <td>2.516610e-11</td>\n",
       "      <td>4.313400e-13</td>\n",
       "      <td>2.921100e-13</td>\n",
       "      <td>4.784330e-12</td>\n",
       "      <td>3.649100e-13</td>\n",
       "      <td>6.520160e-13</td>\n",
       "      <td>3.266900e-13</td>\n",
       "      <td>3.439800e-13</td>\n",
       "      <td>2.517060e-12</td>\n",
       "    </tr>\n",
       "    <tr>\n",
       "      <th>30</th>\n",
       "      <td>3</td>\n",
       "      <td>19.04.2022</td>\n",
       "      <td>22:39:36:18</td>\n",
       "      <td>2.079</td>\n",
       "      <td>4.913550e-11</td>\n",
       "      <td>4.354350e-13</td>\n",
       "      <td>1.385130e-13</td>\n",
       "      <td>6.876440e-14</td>\n",
       "      <td>1.136140e-12</td>\n",
       "      <td>4.008550e-13</td>\n",
       "      <td>...</td>\n",
       "      <td>7.829650e-12</td>\n",
       "      <td>2.498410e-11</td>\n",
       "      <td>4.449900e-13</td>\n",
       "      <td>3.799250e-13</td>\n",
       "      <td>4.736100e-12</td>\n",
       "      <td>3.576300e-13</td>\n",
       "      <td>5.710260e-13</td>\n",
       "      <td>2.966600e-13</td>\n",
       "      <td>3.822000e-13</td>\n",
       "      <td>2.509330e-12</td>\n",
       "    </tr>\n",
       "    <tr>\n",
       "      <th>31</th>\n",
       "      <td>4</td>\n",
       "      <td>19.04.2022</td>\n",
       "      <td>22:39:38:28</td>\n",
       "      <td>4.172</td>\n",
       "      <td>4.891260e-11</td>\n",
       "      <td>5.819460e-13</td>\n",
       "      <td>1.394280e-13</td>\n",
       "      <td>1.506050e-13</td>\n",
       "      <td>1.166620e-12</td>\n",
       "      <td>4.199650e-13</td>\n",
       "      <td>...</td>\n",
       "      <td>7.741380e-12</td>\n",
       "      <td>2.538630e-11</td>\n",
       "      <td>3.844750e-13</td>\n",
       "      <td>3.094000e-13</td>\n",
       "      <td>4.619620e-12</td>\n",
       "      <td>3.699150e-13</td>\n",
       "      <td>6.265360e-13</td>\n",
       "      <td>2.739100e-13</td>\n",
       "      <td>2.916550e-13</td>\n",
       "      <td>2.429700e-12</td>\n",
       "    </tr>\n",
       "    <tr>\n",
       "      <th>32</th>\n",
       "      <td>5</td>\n",
       "      <td>19.04.2022</td>\n",
       "      <td>22:39:40:37</td>\n",
       "      <td>6.266</td>\n",
       "      <td>4.917190e-11</td>\n",
       "      <td>4.823010e-13</td>\n",
       "      <td>1.435610e-13</td>\n",
       "      <td>8.736010e-14</td>\n",
       "      <td>1.209390e-12</td>\n",
       "      <td>3.621800e-13</td>\n",
       "      <td>...</td>\n",
       "      <td>8.152700e-12</td>\n",
       "      <td>2.503870e-11</td>\n",
       "      <td>4.254250e-13</td>\n",
       "      <td>3.225950e-13</td>\n",
       "      <td>4.616890e-12</td>\n",
       "      <td>3.831100e-13</td>\n",
       "      <td>5.632910e-13</td>\n",
       "      <td>2.857400e-13</td>\n",
       "      <td>4.090450e-13</td>\n",
       "      <td>2.593500e-12</td>\n",
       "    </tr>\n",
       "    <tr>\n",
       "      <th>33</th>\n",
       "      <td>6</td>\n",
       "      <td>19.04.2022</td>\n",
       "      <td>22:39:42:46</td>\n",
       "      <td>8.360</td>\n",
       "      <td>4.916280e-11</td>\n",
       "      <td>4.727450e-13</td>\n",
       "      <td>1.436590e-13</td>\n",
       "      <td>9.835920e-14</td>\n",
       "      <td>1.143420e-12</td>\n",
       "      <td>3.238020e-13</td>\n",
       "      <td>...</td>\n",
       "      <td>7.849590e-12</td>\n",
       "      <td>2.558470e-11</td>\n",
       "      <td>3.922100e-13</td>\n",
       "      <td>3.985800e-13</td>\n",
       "      <td>4.721990e-12</td>\n",
       "      <td>3.398850e-13</td>\n",
       "      <td>5.396310e-13</td>\n",
       "      <td>3.039400e-13</td>\n",
       "      <td>3.599050e-13</td>\n",
       "      <td>2.517060e-12</td>\n",
       "    </tr>\n",
       "  </tbody>\n",
       "</table>\n",
       "<p>5 rows × 23 columns</p>\n",
       "</div>"
      ],
      "text/plain": [
       "   Cycle        Date         Time  RelTime[s]             1             2  \\\n",
       "29     2  19.04.2022  22:39:34:10       0.000  4.874420e-11  5.036860e-13   \n",
       "30     3  19.04.2022  22:39:36:18       2.079  4.913550e-11  4.354350e-13   \n",
       "31     4  19.04.2022  22:39:38:28       4.172  4.891260e-11  5.819460e-13   \n",
       "32     5  19.04.2022  22:39:40:37       6.266  4.917190e-11  4.823010e-13   \n",
       "33     6  19.04.2022  22:39:42:46       8.360  4.916280e-11  4.727450e-13   \n",
       "\n",
       "               3             4             5             6  ...            10  \\\n",
       "29  1.397840e-13  9.964510e-14  1.235330e-12  4.117750e-13  ...  8.236870e-12   \n",
       "30  1.385130e-13  6.876440e-14  1.136140e-12  4.008550e-13  ...  7.829650e-12   \n",
       "31  1.394280e-13  1.506050e-13  1.166620e-12  4.199650e-13  ...  7.741380e-12   \n",
       "32  1.435610e-13  8.736010e-14  1.209390e-12  3.621800e-13  ...  8.152700e-12   \n",
       "33  1.436590e-13  9.835920e-14  1.143420e-12  3.238020e-13  ...  7.849590e-12   \n",
       "\n",
       "              11            12            13            14            15  \\\n",
       "29  2.516610e-11  4.313400e-13  2.921100e-13  4.784330e-12  3.649100e-13   \n",
       "30  2.498410e-11  4.449900e-13  3.799250e-13  4.736100e-12  3.576300e-13   \n",
       "31  2.538630e-11  3.844750e-13  3.094000e-13  4.619620e-12  3.699150e-13   \n",
       "32  2.503870e-11  4.254250e-13  3.225950e-13  4.616890e-12  3.831100e-13   \n",
       "33  2.558470e-11  3.922100e-13  3.985800e-13  4.721990e-12  3.398850e-13   \n",
       "\n",
       "              16            17            18            19  \n",
       "29  6.520160e-13  3.266900e-13  3.439800e-13  2.517060e-12  \n",
       "30  5.710260e-13  2.966600e-13  3.822000e-13  2.509330e-12  \n",
       "31  6.265360e-13  2.739100e-13  2.916550e-13  2.429700e-12  \n",
       "32  5.632910e-13  2.857400e-13  4.090450e-13  2.593500e-12  \n",
       "33  5.396310e-13  3.039400e-13  3.599050e-13  2.517060e-12  \n",
       "\n",
       "[5 rows x 23 columns]"
      ]
     },
     "execution_count": 55,
     "metadata": {},
     "output_type": "execute_result"
    }
   ],
   "source": [
    "data.head()"
   ]
  },
  {
   "cell_type": "code",
   "execution_count": 56,
   "metadata": {
    "colab": {
     "base_uri": "https://localhost:8080/",
     "height": 204
    },
    "id": "7gX8M1v9_TtC",
    "outputId": "3d564e90-5f45-426e-d141-a3a916999d20",
    "scrolled": true
   },
   "outputs": [
    {
     "data": {
      "text/html": [
       "<div>\n",
       "<style scoped>\n",
       "    .dataframe tbody tr th:only-of-type {\n",
       "        vertical-align: middle;\n",
       "    }\n",
       "\n",
       "    .dataframe tbody tr th {\n",
       "        vertical-align: top;\n",
       "    }\n",
       "\n",
       "    .dataframe thead th {\n",
       "        text-align: right;\n",
       "    }\n",
       "</style>\n",
       "<table border=\"1\" class=\"dataframe\">\n",
       "  <thead>\n",
       "    <tr style=\"text-align: right;\">\n",
       "      <th></th>\n",
       "      <th>t, s</th>\n",
       "      <th>Tg, C</th>\n",
       "      <th>Tr, C</th>\n",
       "      <th>P, %</th>\n",
       "    </tr>\n",
       "  </thead>\n",
       "  <tbody>\n",
       "    <tr>\n",
       "      <th>0</th>\n",
       "      <td>0.14</td>\n",
       "      <td>30.0</td>\n",
       "      <td>29.24</td>\n",
       "      <td>0.0</td>\n",
       "    </tr>\n",
       "    <tr>\n",
       "      <th>1</th>\n",
       "      <td>0.25</td>\n",
       "      <td>30.0</td>\n",
       "      <td>30.00</td>\n",
       "      <td>30.0</td>\n",
       "    </tr>\n",
       "    <tr>\n",
       "      <th>2</th>\n",
       "      <td>0.36</td>\n",
       "      <td>30.0</td>\n",
       "      <td>30.00</td>\n",
       "      <td>30.0</td>\n",
       "    </tr>\n",
       "    <tr>\n",
       "      <th>3</th>\n",
       "      <td>0.48</td>\n",
       "      <td>30.0</td>\n",
       "      <td>30.00</td>\n",
       "      <td>30.0</td>\n",
       "    </tr>\n",
       "    <tr>\n",
       "      <th>4</th>\n",
       "      <td>0.59</td>\n",
       "      <td>30.0</td>\n",
       "      <td>30.00</td>\n",
       "      <td>30.0</td>\n",
       "    </tr>\n",
       "  </tbody>\n",
       "</table>\n",
       "</div>"
      ],
      "text/plain": [
       "   t, s  Tg, C  Tr, C  P, %\n",
       "0  0.14   30.0  29.24   0.0\n",
       "1  0.25   30.0  30.00  30.0\n",
       "2  0.36   30.0  30.00  30.0\n",
       "3  0.48   30.0  30.00  30.0\n",
       "4  0.59   30.0  30.00  30.0"
      ]
     },
     "execution_count": 56,
     "metadata": {},
     "output_type": "execute_result"
    }
   ],
   "source": [
    "temp.head()"
   ]
  },
  {
   "cell_type": "code",
   "execution_count": null,
   "metadata": {
    "id": "2v2OddVg4qCM"
   },
   "outputs": [],
   "source": []
  },
  {
   "cell_type": "code",
   "execution_count": 57,
   "metadata": {
    "colab": {
     "base_uri": "https://localhost:8080/",
     "height": 1000
    },
    "id": "b_NVhpDw7888",
    "outputId": "a0625982-d217-431a-ae0d-9696b9f9dd5c"
   },
   "outputs": [
    {
     "name": "stderr",
     "output_type": "stream",
     "text": [
      "/home/user/msTest/venv_jupyterhab/lib/python3.6/site-packages/matplotlib/cbook/__init__.py:2064: FutureWarning: Support for multi-dimensional indexing (e.g. `obj[:, None]`) is deprecated and will be removed in a future version.  Convert to a numpy array before indexing instead.\n",
      "  x[:, None]\n",
      "/home/user/msTest/venv_jupyterhab/lib/python3.6/site-packages/matplotlib/axes/_base.py:248: FutureWarning: Support for multi-dimensional indexing (e.g. `obj[:, None]`) is deprecated and will be removed in a future version.  Convert to a numpy array before indexing instead.\n",
      "  x = x[:, np.newaxis]\n",
      "/home/user/msTest/venv_jupyterhab/lib/python3.6/site-packages/matplotlib/axes/_base.py:250: FutureWarning: Support for multi-dimensional indexing (e.g. `obj[:, None]`) is deprecated and will be removed in a future version.  Convert to a numpy array before indexing instead.\n",
      "  y = y[:, np.newaxis]\n"
     ]
    },
    {
     "data": {
      "image/png": "[encoded data removed]",
      "text/plain": [
       "<Figure size 432x288 with 2 Axes>"
      ]
     },
     "metadata": {
      "needs_background": "light"
     },
     "output_type": "display_data"
    },
    {
     "data": {
      "image/png": "[encoded data removed]",
      "text/plain": [
       "<Figure size 432x288 with 2 Axes>"
      ]
     },
     "metadata": {
      "needs_background": "light"
     },
     "output_type": "display_data"
    },
    {
     "data": {
      "image/png": "[encoded data removed]",
      "text/plain": [
       "<Figure size 432x288 with 2 Axes>"
      ]
     },
     "metadata": {
      "needs_background": "light"
     },
     "output_type": "display_data"
    },
    {
     "data": {
      "image/png": "[encoded data removed]",
      "text/plain": [
       "<Figure size 432x288 with 2 Axes>"
      ]
     },
     "metadata": {
      "needs_background": "light"
     },
     "output_type": "display_data"
    }
   ],
   "source": [
    "titles = [3, 4, 19, 20]\n",
    "arr_of_integrals = []\n",
    "for idx, need_col in enumerate(['2', '3', '12', '13']):\n",
    "  x = data['RelTime[s]']\n",
    "  y = data[need_col]\n",
    "  arr_of_integrals.append(np.trapz(y, x))\n",
    "  x1 = temp['t, s']\n",
    "  y1 = temp['Tg, C'] + 273\n",
    "  fig,ax = plt.subplots()\n",
    "  ax.plot(x, y, color='teal',linewidth=3, label = \"I(t)\")\n",
    "  ax.grid()\n",
    "\n",
    "\n",
    "  ax.set_title(f'График зависимости тока и температуры от времени\\n для массы {titles[idx]}')\n",
    "  ax.set_ylabel('I, A')\n",
    "  ax.set_xlabel('t, С')\n",
    "  ax2 = ax.twinx()\n",
    "  ax2.plot(x1, y1, color='orange', linewidth=3, label = \"T(t)\")\n",
    "\n",
    "  # Align to 0\n",
    "  #ax2.set_ylim(bottom=0)\n",
    "  ax2.set_ylabel('T, K')\n",
    "  ax.legend(loc='center right')\n",
    "  ax2.legend(loc='upper left')\n",
    "\n",
    "\n",
    "  plt.show()\n"
   ]
  },
  {
   "cell_type": "code",
   "execution_count": 58,
   "metadata": {
    "colab": {
     "base_uri": "https://localhost:8080/"
    },
    "id": "7lyBrDtSQFCX",
    "outputId": "8a49cfee-8add-488d-e6f2-2f6675a380d4"
   },
   "outputs": [
    {
     "data": {
      "text/plain": [
       "[1.6126341614956502e-08,\n",
       " 2.64730173491e-09,\n",
       " 6.931431451290498e-09,\n",
       " 2.262508912571e-09]"
      ]
     },
     "execution_count": 58,
     "metadata": {},
     "output_type": "execute_result"
    }
   ],
   "source": [
    "arr_of_integrals"
   ]
  },
  {
   "cell_type": "code",
   "execution_count": 59,
   "metadata": {
    "id": "d3qnTwWVSBiV"
   },
   "outputs": [
    {
     "data": {
      "text/html": [
       "<div>\n",
       "<style scoped>\n",
       "    .dataframe tbody tr th:only-of-type {\n",
       "        vertical-align: middle;\n",
       "    }\n",
       "\n",
       "    .dataframe tbody tr th {\n",
       "        vertical-align: top;\n",
       "    }\n",
       "\n",
       "    .dataframe thead th {\n",
       "        text-align: right;\n",
       "    }\n",
       "</style>\n",
       "<table border=\"1\" class=\"dataframe\">\n",
       "  <thead>\n",
       "    <tr style=\"text-align: right;\">\n",
       "      <th></th>\n",
       "      <th>Cycle</th>\n",
       "      <th>Date</th>\n",
       "      <th>Time</th>\n",
       "      <th>RelTime[s]</th>\n",
       "      <th>1</th>\n",
       "      <th>2</th>\n",
       "      <th>3</th>\n",
       "      <th>4</th>\n",
       "      <th>5</th>\n",
       "      <th>6</th>\n",
       "      <th>...</th>\n",
       "      <th>11</th>\n",
       "      <th>12</th>\n",
       "      <th>13</th>\n",
       "      <th>14</th>\n",
       "      <th>15</th>\n",
       "      <th>16</th>\n",
       "      <th>17</th>\n",
       "      <th>18</th>\n",
       "      <th>19</th>\n",
       "      <th>20</th>\n",
       "    </tr>\n",
       "  </thead>\n",
       "  <tbody>\n",
       "    <tr>\n",
       "      <th>28</th>\n",
       "      <td>1</td>\n",
       "      <td>19.04.2022</td>\n",
       "      <td>23:53:53:00</td>\n",
       "      <td>0</td>\n",
       "      <td>6.3964E-011</td>\n",
       "      <td>5.369E-013</td>\n",
       "      <td>1.47804E-013</td>\n",
       "      <td>8.78151E-014</td>\n",
       "      <td>1.49559E-012</td>\n",
       "      <td>3.3124E-013</td>\n",
       "      <td>...</td>\n",
       "      <td>2.64628E-011</td>\n",
       "      <td>5.19156E-013</td>\n",
       "      <td>3.50786E-013</td>\n",
       "      <td>7.12849E-012</td>\n",
       "      <td>4.6774E-013</td>\n",
       "      <td>5.96961E-013</td>\n",
       "      <td>3.4671E-013</td>\n",
       "      <td>3.3761E-013</td>\n",
       "      <td>2.66676E-012</td>\n",
       "      <td>NaN</td>\n",
       "    </tr>\n",
       "    <tr>\n",
       "      <th>29</th>\n",
       "      <td>2</td>\n",
       "      <td>19.04.2022</td>\n",
       "      <td>23:53:55:09</td>\n",
       "      <td>2.094</td>\n",
       "      <td>6.46874E-011</td>\n",
       "      <td>5.48276E-013</td>\n",
       "      <td>1.50328E-013</td>\n",
       "      <td>1.63345E-013</td>\n",
       "      <td>1.66485E-012</td>\n",
       "      <td>4.46355E-013</td>\n",
       "      <td>...</td>\n",
       "      <td>2.6704E-011</td>\n",
       "      <td>4.37255E-013</td>\n",
       "      <td>3.49915E-013</td>\n",
       "      <td>7.0698E-012</td>\n",
       "      <td>4.3589E-013</td>\n",
       "      <td>5.67841E-013</td>\n",
       "      <td>2.58895E-013</td>\n",
       "      <td>3.8948E-013</td>\n",
       "      <td>2.5885E-012</td>\n",
       "      <td>NaN</td>\n",
       "    </tr>\n",
       "    <tr>\n",
       "      <th>30</th>\n",
       "      <td>3</td>\n",
       "      <td>19.04.2022</td>\n",
       "      <td>23:53:57:18</td>\n",
       "      <td>4.187</td>\n",
       "      <td>6.33543E-011</td>\n",
       "      <td>5.58286E-013</td>\n",
       "      <td>1.51759E-013</td>\n",
       "      <td>1.22296E-013</td>\n",
       "      <td>1.42779E-012</td>\n",
       "      <td>3.81745E-013</td>\n",
       "      <td>...</td>\n",
       "      <td>2.63437E-011</td>\n",
       "      <td>6.15161E-013</td>\n",
       "      <td>3.46255E-013</td>\n",
       "      <td>7.58941E-012</td>\n",
       "      <td>4.1587E-013</td>\n",
       "      <td>4.86851E-013</td>\n",
       "      <td>2.98935E-013</td>\n",
       "      <td>3.49895E-013</td>\n",
       "      <td>2.80144E-012</td>\n",
       "      <td>NaN</td>\n",
       "    </tr>\n",
       "    <tr>\n",
       "      <th>31</th>\n",
       "      <td>4</td>\n",
       "      <td>19.04.2022</td>\n",
       "      <td>23:53:59:28</td>\n",
       "      <td>6.281</td>\n",
       "      <td>6.39685E-011</td>\n",
       "      <td>5.61471E-013</td>\n",
       "      <td>1.54473E-013</td>\n",
       "      <td>1.27519E-013</td>\n",
       "      <td>1.37274E-012</td>\n",
       "      <td>3.4034E-013</td>\n",
       "      <td>...</td>\n",
       "      <td>2.6613E-011</td>\n",
       "      <td>4.186E-013</td>\n",
       "      <td>3.89025E-013</td>\n",
       "      <td>7.51979E-012</td>\n",
       "      <td>4.41805E-013</td>\n",
       "      <td>5.18245E-013</td>\n",
       "      <td>2.70725E-013</td>\n",
       "      <td>4.18145E-013</td>\n",
       "      <td>2.50478E-012</td>\n",
       "      <td>NaN</td>\n",
       "    </tr>\n",
       "    <tr>\n",
       "      <th>32</th>\n",
       "      <td>5</td>\n",
       "      <td>19.04.2022</td>\n",
       "      <td>23:54:01:35</td>\n",
       "      <td>8.359</td>\n",
       "      <td>6.32724E-011</td>\n",
       "      <td>5.91046E-013</td>\n",
       "      <td>1.50881E-013</td>\n",
       "      <td>9.37301E-014</td>\n",
       "      <td>1.54427E-012</td>\n",
       "      <td>3.6036E-013</td>\n",
       "      <td>...</td>\n",
       "      <td>2.61125E-011</td>\n",
       "      <td>4.73655E-013</td>\n",
       "      <td>3.2396E-013</td>\n",
       "      <td>7.14078E-012</td>\n",
       "      <td>4.28155E-013</td>\n",
       "      <td>6.29721E-013</td>\n",
       "      <td>2.84375E-013</td>\n",
       "      <td>4.06315E-013</td>\n",
       "      <td>2.68405E-012</td>\n",
       "      <td>NaN</td>\n",
       "    </tr>\n",
       "    <tr>\n",
       "      <th>...</th>\n",
       "      <td>...</td>\n",
       "      <td>...</td>\n",
       "      <td>...</td>\n",
       "      <td>...</td>\n",
       "      <td>...</td>\n",
       "      <td>...</td>\n",
       "      <td>...</td>\n",
       "      <td>...</td>\n",
       "      <td>...</td>\n",
       "      <td>...</td>\n",
       "      <td>...</td>\n",
       "      <td>...</td>\n",
       "      <td>...</td>\n",
       "      <td>...</td>\n",
       "      <td>...</td>\n",
       "      <td>...</td>\n",
       "      <td>...</td>\n",
       "      <td>...</td>\n",
       "      <td>...</td>\n",
       "      <td>...</td>\n",
       "      <td>...</td>\n",
       "    </tr>\n",
       "    <tr>\n",
       "      <th>304</th>\n",
       "      <td>277</td>\n",
       "      <td>20.04.2022</td>\n",
       "      <td>0:02:52:68</td>\n",
       "      <td>539.687</td>\n",
       "      <td>1.47648E-010</td>\n",
       "      <td>2.56939E-011</td>\n",
       "      <td>5.07882E-009</td>\n",
       "      <td>4.81845E-013</td>\n",
       "      <td>1.94695E-012</td>\n",
       "      <td>5.59195E-013</td>\n",
       "      <td>...</td>\n",
       "      <td>4.6501E-011</td>\n",
       "      <td>1.69033E-012</td>\n",
       "      <td>6.45191E-013</td>\n",
       "      <td>4.10046E-011</td>\n",
       "      <td>5.00955E-013</td>\n",
       "      <td>4.9231E-012</td>\n",
       "      <td>2.99845E-013</td>\n",
       "      <td>8.84521E-013</td>\n",
       "      <td>2.87879E-012</td>\n",
       "      <td>NaN</td>\n",
       "    </tr>\n",
       "    <tr>\n",
       "      <th>305</th>\n",
       "      <td>278</td>\n",
       "      <td>20.04.2022</td>\n",
       "      <td>0:02:54:56</td>\n",
       "      <td>541.562</td>\n",
       "      <td>1.47408E-010</td>\n",
       "      <td>2.67267E-011</td>\n",
       "      <td>5.07729E-009</td>\n",
       "      <td>4.2588E-013</td>\n",
       "      <td>1.71717E-012</td>\n",
       "      <td>4.88216E-013</td>\n",
       "      <td>...</td>\n",
       "      <td>4.65283E-011</td>\n",
       "      <td>1.78861E-012</td>\n",
       "      <td>5.68296E-013</td>\n",
       "      <td>4.13732E-011</td>\n",
       "      <td>4.5409E-013</td>\n",
       "      <td>4.93994E-012</td>\n",
       "      <td>2.73E-013</td>\n",
       "      <td>9.95541E-013</td>\n",
       "      <td>2.72882E-012</td>\n",
       "      <td>NaN</td>\n",
       "    </tr>\n",
       "    <tr>\n",
       "      <th>306</th>\n",
       "      <td>279</td>\n",
       "      <td>20.04.2022</td>\n",
       "      <td>0:02:56:45</td>\n",
       "      <td>543.453</td>\n",
       "      <td>1.4874E-010</td>\n",
       "      <td>2.61534E-011</td>\n",
       "      <td>5.08214E-009</td>\n",
       "      <td>4.67285E-013</td>\n",
       "      <td>1.83866E-012</td>\n",
       "      <td>4.3953E-013</td>\n",
       "      <td>...</td>\n",
       "      <td>4.58504E-011</td>\n",
       "      <td>1.99927E-012</td>\n",
       "      <td>5.96506E-013</td>\n",
       "      <td>4.03494E-011</td>\n",
       "      <td>4.4408E-013</td>\n",
       "      <td>4.49313E-012</td>\n",
       "      <td>2.548E-013</td>\n",
       "      <td>9.73246E-013</td>\n",
       "      <td>2.70531E-012</td>\n",
       "      <td>NaN</td>\n",
       "    </tr>\n",
       "    <tr>\n",
       "      <th>307</th>\n",
       "      <td>280</td>\n",
       "      <td>20.04.2022</td>\n",
       "      <td>0:02:58:32</td>\n",
       "      <td>545.328</td>\n",
       "      <td>1.47375E-010</td>\n",
       "      <td>2.58395E-011</td>\n",
       "      <td>5.07433E-009</td>\n",
       "      <td>4.77295E-013</td>\n",
       "      <td>1.63072E-012</td>\n",
       "      <td>4.1223E-013</td>\n",
       "      <td>...</td>\n",
       "      <td>4.50223E-011</td>\n",
       "      <td>1.70807E-012</td>\n",
       "      <td>5.86041E-013</td>\n",
       "      <td>4.07999E-011</td>\n",
       "      <td>3.9312E-013</td>\n",
       "      <td>4.44262E-012</td>\n",
       "      <td>3.3215E-013</td>\n",
       "      <td>9.90991E-013</td>\n",
       "      <td>2.94613E-012</td>\n",
       "      <td>NaN</td>\n",
       "    </tr>\n",
       "    <tr>\n",
       "      <th>308</th>\n",
       "      <td>281</td>\n",
       "      <td>20.04.2022</td>\n",
       "      <td>0:03:00:20</td>\n",
       "      <td>547.203</td>\n",
       "      <td>1.47966E-010</td>\n",
       "      <td>2.58213E-011</td>\n",
       "      <td>5.07489E-009</td>\n",
       "      <td>4.56365E-013</td>\n",
       "      <td>1.75949E-012</td>\n",
       "      <td>4.94586E-013</td>\n",
       "      <td>...</td>\n",
       "      <td>4.58094E-011</td>\n",
       "      <td>1.77405E-012</td>\n",
       "      <td>6.00146E-013</td>\n",
       "      <td>4.05405E-011</td>\n",
       "      <td>4.5864E-013</td>\n",
       "      <td>4.56957E-012</td>\n",
       "      <td>2.16125E-013</td>\n",
       "      <td>7.93976E-013</td>\n",
       "      <td>2.47111E-012</td>\n",
       "      <td>NaN</td>\n",
       "    </tr>\n",
       "  </tbody>\n",
       "</table>\n",
       "<p>281 rows × 24 columns</p>\n",
       "</div>"
      ],
      "text/plain": [
       "    Cycle        Date         Time RelTime[s]             1             2  \\\n",
       "28      1  19.04.2022  23:53:53:00          0   6.3964E-011    5.369E-013   \n",
       "29      2  19.04.2022  23:53:55:09      2.094  6.46874E-011  5.48276E-013   \n",
       "30      3  19.04.2022  23:53:57:18      4.187  6.33543E-011  5.58286E-013   \n",
       "31      4  19.04.2022  23:53:59:28      6.281  6.39685E-011  5.61471E-013   \n",
       "32      5  19.04.2022  23:54:01:35      8.359  6.32724E-011  5.91046E-013   \n",
       "..    ...         ...          ...        ...           ...           ...   \n",
       "304   277  20.04.2022   0:02:52:68    539.687  1.47648E-010  2.56939E-011   \n",
       "305   278  20.04.2022   0:02:54:56    541.562  1.47408E-010  2.67267E-011   \n",
       "306   279  20.04.2022   0:02:56:45    543.453   1.4874E-010  2.61534E-011   \n",
       "307   280  20.04.2022   0:02:58:32    545.328  1.47375E-010  2.58395E-011   \n",
       "308   281  20.04.2022   0:03:00:20    547.203  1.47966E-010  2.58213E-011   \n",
       "\n",
       "                3             4             5             6  ...  \\\n",
       "28   1.47804E-013  8.78151E-014  1.49559E-012   3.3124E-013  ...   \n",
       "29   1.50328E-013  1.63345E-013  1.66485E-012  4.46355E-013  ...   \n",
       "30   1.51759E-013  1.22296E-013  1.42779E-012  3.81745E-013  ...   \n",
       "31   1.54473E-013  1.27519E-013  1.37274E-012   3.4034E-013  ...   \n",
       "32   1.50881E-013  9.37301E-014  1.54427E-012   3.6036E-013  ...   \n",
       "..            ...           ...           ...           ...  ...   \n",
       "304  5.07882E-009  4.81845E-013  1.94695E-012  5.59195E-013  ...   \n",
       "305  5.07729E-009   4.2588E-013  1.71717E-012  4.88216E-013  ...   \n",
       "306  5.08214E-009  4.67285E-013  1.83866E-012   4.3953E-013  ...   \n",
       "307  5.07433E-009  4.77295E-013  1.63072E-012   4.1223E-013  ...   \n",
       "308  5.07489E-009  4.56365E-013  1.75949E-012  4.94586E-013  ...   \n",
       "\n",
       "               11            12            13            14            15  \\\n",
       "28   2.64628E-011  5.19156E-013  3.50786E-013  7.12849E-012   4.6774E-013   \n",
       "29    2.6704E-011  4.37255E-013  3.49915E-013   7.0698E-012   4.3589E-013   \n",
       "30   2.63437E-011  6.15161E-013  3.46255E-013  7.58941E-012   4.1587E-013   \n",
       "31    2.6613E-011    4.186E-013  3.89025E-013  7.51979E-012  4.41805E-013   \n",
       "32   2.61125E-011  4.73655E-013   3.2396E-013  7.14078E-012  4.28155E-013   \n",
       "..            ...           ...           ...           ...           ...   \n",
       "304   4.6501E-011  1.69033E-012  6.45191E-013  4.10046E-011  5.00955E-013   \n",
       "305  4.65283E-011  1.78861E-012  5.68296E-013  4.13732E-011   4.5409E-013   \n",
       "306  4.58504E-011  1.99927E-012  5.96506E-013  4.03494E-011   4.4408E-013   \n",
       "307  4.50223E-011  1.70807E-012  5.86041E-013  4.07999E-011   3.9312E-013   \n",
       "308  4.58094E-011  1.77405E-012  6.00146E-013  4.05405E-011   4.5864E-013   \n",
       "\n",
       "               16            17            18            19  20  \n",
       "28   5.96961E-013   3.4671E-013   3.3761E-013  2.66676E-012 NaN  \n",
       "29   5.67841E-013  2.58895E-013   3.8948E-013   2.5885E-012 NaN  \n",
       "30   4.86851E-013  2.98935E-013  3.49895E-013  2.80144E-012 NaN  \n",
       "31   5.18245E-013  2.70725E-013  4.18145E-013  2.50478E-012 NaN  \n",
       "32   6.29721E-013  2.84375E-013  4.06315E-013  2.68405E-012 NaN  \n",
       "..            ...           ...           ...           ...  ..  \n",
       "304   4.9231E-012  2.99845E-013  8.84521E-013  2.87879E-012 NaN  \n",
       "305  4.93994E-012     2.73E-013  9.95541E-013  2.72882E-012 NaN  \n",
       "306  4.49313E-012    2.548E-013  9.73246E-013  2.70531E-012 NaN  \n",
       "307  4.44262E-012   3.3215E-013  9.90991E-013  2.94613E-012 NaN  \n",
       "308  4.56957E-012  2.16125E-013  7.93976E-013  2.47111E-012 NaN  \n",
       "\n",
       "[281 rows x 24 columns]"
      ]
     },
     "execution_count": 59,
     "metadata": {},
     "output_type": "execute_result"
    }
   ],
   "source": [
    "calibr = pd.read_csv('calibr_(s220403).asc', sep = '\\t', names = cols)\n",
    "calibr=calibr.drop(labels=range(0,28), axis=0)\n",
    "calibr"
   ]
  },
  {
   "cell_type": "code",
   "execution_count": 60,
   "metadata": {
    "id": "IYJz6RvBSoyz"
   },
   "outputs": [],
   "source": [
    "calibr = calibr.iloc[2:]\n",
    "calibr = calibr.drop(labels=['20'], axis=1)\n",
    "cols_to_float = ['RelTime[s]'] + [str(i+1) for i in range(19)]\n",
    "# cols_to_float\n",
    "calibr[cols_to_float] = calibr[cols_to_float].astype(float)\n",
    "calibr = calibr[calibr['RelTime[s]'] > temp['t, s'].iloc[0]]"
   ]
  },
  {
   "cell_type": "code",
   "execution_count": 80,
   "metadata": {
    "id": "j_NPR8G0SskR"
   },
   "outputs": [
    {
     "data": {
      "text/plain": [
       "30       4.187\n",
       "31       6.281\n",
       "32       8.359\n",
       "33      10.453\n",
       "34      12.531\n",
       "        ...   \n",
       "304    539.687\n",
       "305    541.562\n",
       "306    543.453\n",
       "307    545.328\n",
       "308    547.203\n",
       "Name: RelTime[s], Length: 279, dtype: float64"
      ]
     },
     "execution_count": 80,
     "metadata": {},
     "output_type": "execute_result"
    }
   ],
   "source": [
    "y_calibr = calibr['3']\n",
    "x_calibr = calibr['RelTime[s]']\n",
    "x_calibr"
   ]
  },
  {
   "cell_type": "code",
   "execution_count": 62,
   "metadata": {
    "id": "jWywpQSmUY_n"
   },
   "outputs": [],
   "source": [
    "I0 = calibr[ calibr['RelTime[s]'] > 800]['3'].mean()\n",
    "I0 = [I0 for i in range(len(x_calibr))]"
   ]
  },
  {
   "cell_type": "code",
   "execution_count": 63,
   "metadata": {
    "colab": {
     "base_uri": "https://localhost:8080/",
     "height": 295
    },
    "id": "j9zjtX0WTKlU",
    "outputId": "92472672-b39c-4c7f-c135-7c5c5710be19",
    "scrolled": true
   },
   "outputs": [
    {
     "name": "stderr",
     "output_type": "stream",
     "text": [
      "/home/user/msTest/venv_jupyterhab/lib/python3.6/site-packages/matplotlib/cbook/__init__.py:2064: FutureWarning: Support for multi-dimensional indexing (e.g. `obj[:, None]`) is deprecated and will be removed in a future version.  Convert to a numpy array before indexing instead.\n",
      "  x[:, None]\n",
      "/home/user/msTest/venv_jupyterhab/lib/python3.6/site-packages/matplotlib/axes/_base.py:248: FutureWarning: Support for multi-dimensional indexing (e.g. `obj[:, None]`) is deprecated and will be removed in a future version.  Convert to a numpy array before indexing instead.\n",
      "  x = x[:, np.newaxis]\n",
      "/home/user/msTest/venv_jupyterhab/lib/python3.6/site-packages/matplotlib/axes/_base.py:250: FutureWarning: Support for multi-dimensional indexing (e.g. `obj[:, None]`) is deprecated and will be removed in a future version.  Convert to a numpy array before indexing instead.\n",
      "  y = y[:, np.newaxis]\n"
     ]
    },
    {
     "data": {
      "image/png": "[encoded data removed]",
      "text/plain": [
       "<Figure size 432x288 with 1 Axes>"
      ]
     },
     "metadata": {
      "needs_background": "light"
     },
     "output_type": "display_data"
    }
   ],
   "source": [
    "plt.plot(x_calibr, y_calibr, label='I(t)')\n",
    "plt.plot(x_calibr, I0,  '--', color='red', linewidth=2 , label='I0')\n",
    "plt.xlabel('t, c')\n",
    "plt.ylabel('I, A')\n",
    "plt.title('Калибровочный график для массы 4')\n",
    "plt.ylim([0,0.4e-7])\n",
    "plt.grid()\n",
    "\n",
    "plt.legend()\n",
    "plt.show()"
   ]
  },
  {
   "cell_type": "code",
   "execution_count": 64,
   "metadata": {
    "id": "jSzcDagETxGD"
   },
   "outputs": [],
   "source": [
    "# baratron = pd.read_csv('/content/baratron_(wycr 3).txt', sep=\"\\t\", names = ['t','P'])\n",
    "baratron = pd.read_csv('baratron_(s220403).dat', sep=\"\\t\", names = ['t','P'])\n",
    "baratron['t'] = baratron['t'].apply(lambda x: float(x.replace(',','.')))\n",
    "baratron['P'] = baratron['P'].apply(lambda x: float(x.replace(',','.')))"
   ]
  },
  {
   "cell_type": "code",
   "execution_count": 65,
   "metadata": {
    "id": "jRWci9xrYLZG"
   },
   "outputs": [],
   "source": [
    "x_bara = baratron['t']\n",
    "y_bara = baratron['P'] * 0.750062 # to Torr"
   ]
  },
  {
   "cell_type": "code",
   "execution_count": 66,
   "metadata": {
    "id": "Mp-B-pxoX-X3"
   },
   "outputs": [],
   "source": [
    "from scipy.optimize import curve_fit"
   ]
  },
  {
   "cell_type": "code",
   "execution_count": 67,
   "metadata": {
    "id": "bppWZG1M9_1U"
   },
   "outputs": [],
   "source": [
    "def objective(x, a, b):\n",
    "\treturn a * x + b"
   ]
  },
  {
   "cell_type": "code",
   "execution_count": 68,
   "metadata": {
    "id": "JaaSzu75-Fo0"
   },
   "outputs": [],
   "source": [
    "fit_x = x_bara[150:400]\n",
    "fit_y = y_bara[150:400]"
   ]
  },
  {
   "cell_type": "code",
   "execution_count": 69,
   "metadata": {
    "id": "KmPYMMnb-LTj"
   },
   "outputs": [],
   "source": [
    "popt, _ = curve_fit(objective, fit_x, fit_y)\n",
    "a, b = popt"
   ]
  },
  {
   "cell_type": "code",
   "execution_count": 70,
   "metadata": {
    "id": "RJ7wmI3m-aN9"
   },
   "outputs": [],
   "source": [
    "x_line = np.arange(min(fit_x), max(fit_x), 1)"
   ]
  },
  {
   "cell_type": "code",
   "execution_count": 71,
   "metadata": {
    "id": "c9HSa1iH-bs4"
   },
   "outputs": [],
   "source": [
    "y_line = objective(x_line, a, b)"
   ]
  },
  {
   "cell_type": "code",
   "execution_count": 72,
   "metadata": {
    "colab": {
     "base_uri": "https://localhost:8080/",
     "height": 295
    },
    "id": "_z-WRcVZ-o3w",
    "outputId": "258e0ded-2739-43d7-b6bd-5f8b40973d38"
   },
   "outputs": [
    {
     "data": {
      "image/png": "[encoded data removed]",
      "text/plain": [
       "<Figure size 432x288 with 1 Axes>"
      ]
     },
     "metadata": {
      "needs_background": "light"
     },
     "output_type": "display_data"
    }
   ],
   "source": [
    "plt.plot(x_line, y_line, '--', color='red', linewidth=3, label = \"fitting\")\n",
    "plt.plot(x_bara, y_bara, label = \"P(t)\")\n",
    "plt.xlabel('t, c')\n",
    "plt.grid()\n",
    "plt.ylabel('P, Torr')\n",
    "plt.title('График зависимости давления от времени')\n",
    "plt.legend()\n",
    "plt.show()"
   ]
  },
  {
   "cell_type": "code",
   "execution_count": 73,
   "metadata": {
    "colab": {
     "base_uri": "https://localhost:8080/"
    },
    "id": "x5y7rvki-s_L",
    "outputId": "0ca7922a-79ef-4786-fda5-a5a02db8056f"
   },
   "outputs": [
    {
     "data": {
      "text/plain": [
       "(-0.00010858450967939358, nan)"
      ]
     },
     "execution_count": 73,
     "metadata": {},
     "output_type": "execute_result"
    }
   ],
   "source": [
    "a, I0[0]"
   ]
  },
  {
   "cell_type": "code",
   "execution_count": 74,
   "metadata": {
    "colab": {
     "base_uri": "https://localhost:8080/"
    },
    "id": "Zuv8BNRW_pIU",
    "outputId": "a7407cee-d5ea-4629-8aa8-c158b4c9129e"
   },
   "outputs": [
    {
     "data": {
      "text/plain": [
       "nan"
      ]
     },
     "execution_count": 74,
     "metadata": {},
     "output_type": "execute_result"
    }
   ],
   "source": [
    " 5.2e-2 * a/I0[0]"
   ]
  },
  {
   "cell_type": "code",
   "execution_count": 75,
   "metadata": {
    "colab": {
     "base_uri": "https://localhost:8080/"
    },
    "id": "k8L6uDHV_e-Z",
    "outputId": "d3ba84f9-4171-433f-e34e-288c40ef725a"
   },
   "outputs": [
    {
     "data": {
      "text/plain": [
       "nan"
      ]
     },
     "execution_count": 75,
     "metadata": {},
     "output_type": "execute_result"
    }
   ],
   "source": [
    "k = 3.5e19 * 5.2e-2 * a/I0[0]\n",
    "k"
   ]
  },
  {
   "cell_type": "code",
   "execution_count": 76,
   "metadata": {
    "id": "_vRFN9ST_wz0"
   },
   "outputs": [],
   "source": [
    "integrals_prod_coef = k * np.array(arr_of_integrals)"
   ]
  },
  {
   "cell_type": "code",
   "execution_count": 77,
   "metadata": {
    "id": "WbhIXaYa_xiP"
   },
   "outputs": [],
   "source": [
    "coef = [0.5, 2, 0.5, 2]\n",
    "for idx, c in enumerate(coef):\n",
    "  integrals_prod_coef[idx]*=c"
   ]
  },
  {
   "cell_type": "code",
   "execution_count": 78,
   "metadata": {
    "colab": {
     "base_uri": "https://localhost:8080/"
    },
    "id": "NTKuHTrp3O0i",
    "outputId": "1c10605a-d797-4e00-958d-fb97f8081e9d"
   },
   "outputs": [
    {
     "data": {
      "text/plain": [
       "array([nan, nan, nan, nan])"
      ]
     },
     "execution_count": 78,
     "metadata": {},
     "output_type": "execute_result"
    }
   ],
   "source": [
    "integrals_prod_coef"
   ]
  },
  {
   "cell_type": "code",
   "execution_count": 79,
   "metadata": {
    "colab": {
     "base_uri": "https://localhost:8080/"
    },
    "id": "_vOolqY33Pfw",
    "outputId": "eb1dfc1b-4a52-41f7-c349-1c58837e8f00"
   },
   "outputs": [
    {
     "data": {
      "text/plain": [
       "nan"
      ]
     },
     "execution_count": 79,
     "metadata": {},
     "output_type": "execute_result"
    }
   ],
   "source": [
    "integrals_prod_coef.sum()/1e15"
   ]
  },
  {
   "cell_type": "code",
   "execution_count": null,
   "metadata": {
    "id": "1LbBPyvDESgc"
   },
   "outputs": [],
   "source": []
  },
  {
   "cell_type": "code",
   "execution_count": null,
   "metadata": {},
   "outputs": [],
   "source": []
  }
 ],
 "metadata": {
  "colab": {
   "name": "hw.ipynb",
   "provenance": []
  },
  "kernelspec": {
   "display_name": "Python 3",
   "language": "python",
   "name": "python3"
  },
  "language_info": {
   "codemirror_mode": {
    "name": "ipython",
    "version": 3
   },
   "file_extension": ".py",
   "mimetype": "text/x-python",
   "name": "python",
   "nbconvert_exporter": "python",
   "pygments_lexer": "ipython3",
   "version": "3.6.8"
  },
  "varInspector": {
   "cols": {
    "lenName": 16,
    "lenType": 16,
    "lenVar": 40
   },
   "kernels_config": {
    "python": {
     "delete_cmd_postfix": "",
     "delete_cmd_prefix": "del ",
     "library": "var_list.py",
     "varRefreshCmd": "print(var_dic_list())"
    },
    "r": {
     "delete_cmd_postfix": ") ",
     "delete_cmd_prefix": "rm(",
     "library": "var_list.r",
     "varRefreshCmd": "cat(var_dic_list()) "
    }
   },
   "types_to_exclude": [
    "module",
    "function",
    "builtin_function_or_method",
    "instance",
    "_Feature"
   ],
   "window_display": false
  }
 },
 "nbformat": 4,
 "nbformat_minor": 5
}
