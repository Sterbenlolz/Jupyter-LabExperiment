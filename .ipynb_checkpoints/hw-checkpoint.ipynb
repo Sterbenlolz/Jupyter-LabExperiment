{
  "cells": [
    {
      "cell_type": "code",
      "execution_count": null,
      "id": "301c0ba4",
      "metadata": {
        "ExecuteTime": {
          "end_time": "2022-04-07T19:13:06.632478Z",
          "start_time": "2022-04-07T19:13:06.628203Z"
        },
        "id": "301c0ba4"
      },
      "outputs": [],
      "source": [
        "import pandas as pd\n",
        "import numpy as np\n",
        "import pickle\n",
        "import matplotlib.pyplot as plt\n"
      ]
    },
    {
      "cell_type": "code",
      "source": [
        "cols = ['Cycle', 'Date', 'Time', 'RelTime[s]'] + [str(i+1) for i in range(20)]"
      ],
      "metadata": {
        "id": "u8pa-KPZ1eCN"
      },
      "id": "u8pa-KPZ1eCN",
      "execution_count": null,
      "outputs": []
    },
    {
      "cell_type": "code",
      "execution_count": null,
      "id": "0f573bdf",
      "metadata": {
        "id": "0f573bdf"
      },
      "outputs": [],
      "source": [
        "data = pd.read_csv('/content/wycr 3.csv', sep = '\\t', names = cols)"
      ]
    },
    {
      "cell_type": "code",
      "source": [
        "data = data.iloc[1:]\n",
        "data = data.drop(['20'], axis = 1)\n",
        "cols_to_float = ['RelTime[s]'] + [str(i+1) for i in range(19)]\n",
        "data[cols_to_float] = data[cols_to_float].astype(float)"
      ],
      "metadata": {
        "id": "R9qROc-000XN"
      },
      "id": "R9qROc-000XN",
      "execution_count": null,
      "outputs": []
    },
    {
      "cell_type": "code",
      "source": [
        "import datetime"
      ],
      "metadata": {
        "id": "mSHS0nCGBTku"
      },
      "id": "mSHS0nCGBTku",
      "execution_count": null,
      "outputs": []
    },
    {
      "cell_type": "code",
      "source": [
        "datetime_start = datetime.datetime.strptime('16:23:37', '%H:%M:%S')\n"
      ],
      "metadata": {
        "id": "YDobRM1DBD-7"
      },
      "id": "YDobRM1DBD-7",
      "execution_count": null,
      "outputs": []
    },
    {
      "cell_type": "code",
      "source": [
        "data = data[data['Time'].apply(lambda x: datetime.datetime.strptime(x, '%H:%M:%S:%f'))>datetime_start]"
      ],
      "metadata": {
        "id": "uOF5xmIaAxfy"
      },
      "id": "uOF5xmIaAxfy",
      "execution_count": null,
      "outputs": []
    },
    {
      "cell_type": "code",
      "source": [
        "#Date and time: 17.02.2022 16:23:37\n"
      ],
      "metadata": {
        "id": "kzzaTvDBAs2U"
      },
      "id": "kzzaTvDBAs2U",
      "execution_count": null,
      "outputs": []
    },
    {
      "cell_type": "code",
      "source": [
        "temp = pd.read_csv('/content/temp_WYCr 3.txt', sep=\"\\t\")\n",
        "for col in temp.columns:\n",
        "  temp[col] = temp[col].apply(lambda x: float(x.replace(',','.')))"
      ],
      "metadata": {
        "id": "1S4lmv4m-3s5"
      },
      "id": "1S4lmv4m-3s5",
      "execution_count": null,
      "outputs": []
    },
    {
      "cell_type": "code",
      "source": [
        "data['RelTime[s]'] = data['RelTime[s]'] - data['RelTime[s]'].iloc[0]"
      ],
      "metadata": {
        "id": "B1paPQcO-4rK"
      },
      "id": "B1paPQcO-4rK",
      "execution_count": null,
      "outputs": []
    },
    {
      "cell_type": "code",
      "source": [
        "data.head()"
      ],
      "metadata": {
        "colab": {
          "base_uri": "https://localhost:8080/",
          "height": 382
        },
        "id": "wtol0xh9_Sk_",
        "outputId": "62499e28-3ad7-4a70-9309-c993ae0acdae"
      },
      "id": "wtol0xh9_Sk_",
      "execution_count": null,
      "outputs": [
        {
          "output_type": "execute_result",
          "data": {
            "text/plain": [
              "    Cycle        Date         Time  RelTime[s]             1             2  \\\n",
              "144   144  17.02.2022  16:23:38:62       0.000  1.174360e-10  8.276460e-13   \n",
              "145   145  17.02.2022  16:23:40:73       2.109  1.214400e-09  3.968060e-12   \n",
              "146   146  17.02.2022  16:23:42:81       4.187  3.245520e-09  9.059060e-12   \n",
              "147   147  17.02.2022  16:23:44:90       6.281  9.515420e-09  2.441080e-11   \n",
              "148   148  17.02.2022  16:23:47:00       8.375  8.206840e-09  2.388750e-11   \n",
              "\n",
              "                3             4             5             6  ...  \\\n",
              "144  1.164850e-13  1.597250e-13  1.804990e-11  2.138500e-12  ...   \n",
              "145  1.571330e-13  6.832920e-14  3.529890e-11  3.522610e-12  ...   \n",
              "146  2.474680e-13  9.509510e-14  3.736010e-11  8.638180e-12  ...   \n",
              "147  3.997190e-13  5.323510e-14  5.587410e-11  9.309310e-12  ...   \n",
              "148  3.033160e-13  1.353530e-13  1.077900e-10  6.845480e-12  ...   \n",
              "\n",
              "               10            11            12            13            14  \\\n",
              "144  3.145320e-10  1.132500e-09  1.203930e-11  2.616250e-12  3.550940e-10   \n",
              "145  2.933840e-10  9.497680e-10  8.954410e-12  2.112550e-12  2.046140e-10   \n",
              "146  2.651290e-10  7.450630e-10  8.054870e-12  2.327330e-12  3.168170e-10   \n",
              "147  1.762670e-10  4.465830e-10  4.745200e-12  1.445540e-12  4.904900e-10   \n",
              "148  1.123400e-10  2.484760e-10  2.910640e-12  9.582310e-13  1.106110e-09   \n",
              "\n",
              "               15            16            17            18            19  \n",
              "144  1.557470e-12  7.348260e-13  4.468100e-13  1.866410e-12  1.297660e-11  \n",
              "145  1.771320e-12  9.104560e-13  6.547460e-13  3.543090e-12  9.982710e-12  \n",
              "146  3.096730e-12  1.199380e-12  1.112480e-12  8.936210e-12  2.548000e-11  \n",
              "147  3.400220e-12  1.061520e-12  9.377560e-13  6.432340e-12  2.062520e-11  \n",
              "148  4.152330e-12  9.363910e-13  7.079810e-13  4.133680e-12  1.161160e-11  \n",
              "\n",
              "[5 rows x 23 columns]"
            ],
            "text/html": [
              "\n",
              "  <div id=\"df-8b1895fc-6ea4-4258-86b4-f513fc2b9eb2\">\n",
              "    <div class=\"colab-df-container\">\n",
              "      <div>\n",
              "<style scoped>\n",
              "    .dataframe tbody tr th:only-of-type {\n",
              "        vertical-align: middle;\n",
              "    }\n",
              "\n",
              "    .dataframe tbody tr th {\n",
              "        vertical-align: top;\n",
              "    }\n",
              "\n",
              "    .dataframe thead th {\n",
              "        text-align: right;\n",
              "    }\n",
              "</style>\n",
              "<table border=\"1\" class=\"dataframe\">\n",
              "  <thead>\n",
              "    <tr style=\"text-align: right;\">\n",
              "      <th></th>\n",
              "      <th>Cycle</th>\n",
              "      <th>Date</th>\n",
              "      <th>Time</th>\n",
              "      <th>RelTime[s]</th>\n",
              "      <th>1</th>\n",
              "      <th>2</th>\n",
              "      <th>3</th>\n",
              "      <th>4</th>\n",
              "      <th>5</th>\n",
              "      <th>6</th>\n",
              "      <th>...</th>\n",
              "      <th>10</th>\n",
              "      <th>11</th>\n",
              "      <th>12</th>\n",
              "      <th>13</th>\n",
              "      <th>14</th>\n",
              "      <th>15</th>\n",
              "      <th>16</th>\n",
              "      <th>17</th>\n",
              "      <th>18</th>\n",
              "      <th>19</th>\n",
              "    </tr>\n",
              "  </thead>\n",
              "  <tbody>\n",
              "    <tr>\n",
              "      <th>144</th>\n",
              "      <td>144</td>\n",
              "      <td>17.02.2022</td>\n",
              "      <td>16:23:38:62</td>\n",
              "      <td>0.000</td>\n",
              "      <td>1.174360e-10</td>\n",
              "      <td>8.276460e-13</td>\n",
              "      <td>1.164850e-13</td>\n",
              "      <td>1.597250e-13</td>\n",
              "      <td>1.804990e-11</td>\n",
              "      <td>2.138500e-12</td>\n",
              "      <td>...</td>\n",
              "      <td>3.145320e-10</td>\n",
              "      <td>1.132500e-09</td>\n",
              "      <td>1.203930e-11</td>\n",
              "      <td>2.616250e-12</td>\n",
              "      <td>3.550940e-10</td>\n",
              "      <td>1.557470e-12</td>\n",
              "      <td>7.348260e-13</td>\n",
              "      <td>4.468100e-13</td>\n",
              "      <td>1.866410e-12</td>\n",
              "      <td>1.297660e-11</td>\n",
              "    </tr>\n",
              "    <tr>\n",
              "      <th>145</th>\n",
              "      <td>145</td>\n",
              "      <td>17.02.2022</td>\n",
              "      <td>16:23:40:73</td>\n",
              "      <td>2.109</td>\n",
              "      <td>1.214400e-09</td>\n",
              "      <td>3.968060e-12</td>\n",
              "      <td>1.571330e-13</td>\n",
              "      <td>6.832920e-14</td>\n",
              "      <td>3.529890e-11</td>\n",
              "      <td>3.522610e-12</td>\n",
              "      <td>...</td>\n",
              "      <td>2.933840e-10</td>\n",
              "      <td>9.497680e-10</td>\n",
              "      <td>8.954410e-12</td>\n",
              "      <td>2.112550e-12</td>\n",
              "      <td>2.046140e-10</td>\n",
              "      <td>1.771320e-12</td>\n",
              "      <td>9.104560e-13</td>\n",
              "      <td>6.547460e-13</td>\n",
              "      <td>3.543090e-12</td>\n",
              "      <td>9.982710e-12</td>\n",
              "    </tr>\n",
              "    <tr>\n",
              "      <th>146</th>\n",
              "      <td>146</td>\n",
              "      <td>17.02.2022</td>\n",
              "      <td>16:23:42:81</td>\n",
              "      <td>4.187</td>\n",
              "      <td>3.245520e-09</td>\n",
              "      <td>9.059060e-12</td>\n",
              "      <td>2.474680e-13</td>\n",
              "      <td>9.509510e-14</td>\n",
              "      <td>3.736010e-11</td>\n",
              "      <td>8.638180e-12</td>\n",
              "      <td>...</td>\n",
              "      <td>2.651290e-10</td>\n",
              "      <td>7.450630e-10</td>\n",
              "      <td>8.054870e-12</td>\n",
              "      <td>2.327330e-12</td>\n",
              "      <td>3.168170e-10</td>\n",
              "      <td>3.096730e-12</td>\n",
              "      <td>1.199380e-12</td>\n",
              "      <td>1.112480e-12</td>\n",
              "      <td>8.936210e-12</td>\n",
              "      <td>2.548000e-11</td>\n",
              "    </tr>\n",
              "    <tr>\n",
              "      <th>147</th>\n",
              "      <td>147</td>\n",
              "      <td>17.02.2022</td>\n",
              "      <td>16:23:44:90</td>\n",
              "      <td>6.281</td>\n",
              "      <td>9.515420e-09</td>\n",
              "      <td>2.441080e-11</td>\n",
              "      <td>3.997190e-13</td>\n",
              "      <td>5.323510e-14</td>\n",
              "      <td>5.587410e-11</td>\n",
              "      <td>9.309310e-12</td>\n",
              "      <td>...</td>\n",
              "      <td>1.762670e-10</td>\n",
              "      <td>4.465830e-10</td>\n",
              "      <td>4.745200e-12</td>\n",
              "      <td>1.445540e-12</td>\n",
              "      <td>4.904900e-10</td>\n",
              "      <td>3.400220e-12</td>\n",
              "      <td>1.061520e-12</td>\n",
              "      <td>9.377560e-13</td>\n",
              "      <td>6.432340e-12</td>\n",
              "      <td>2.062520e-11</td>\n",
              "    </tr>\n",
              "    <tr>\n",
              "      <th>148</th>\n",
              "      <td>148</td>\n",
              "      <td>17.02.2022</td>\n",
              "      <td>16:23:47:00</td>\n",
              "      <td>8.375</td>\n",
              "      <td>8.206840e-09</td>\n",
              "      <td>2.388750e-11</td>\n",
              "      <td>3.033160e-13</td>\n",
              "      <td>1.353530e-13</td>\n",
              "      <td>1.077900e-10</td>\n",
              "      <td>6.845480e-12</td>\n",
              "      <td>...</td>\n",
              "      <td>1.123400e-10</td>\n",
              "      <td>2.484760e-10</td>\n",
              "      <td>2.910640e-12</td>\n",
              "      <td>9.582310e-13</td>\n",
              "      <td>1.106110e-09</td>\n",
              "      <td>4.152330e-12</td>\n",
              "      <td>9.363910e-13</td>\n",
              "      <td>7.079810e-13</td>\n",
              "      <td>4.133680e-12</td>\n",
              "      <td>1.161160e-11</td>\n",
              "    </tr>\n",
              "  </tbody>\n",
              "</table>\n",
              "<p>5 rows × 23 columns</p>\n",
              "</div>\n",
              "      <button class=\"colab-df-convert\" onclick=\"convertToInteractive('df-8b1895fc-6ea4-4258-86b4-f513fc2b9eb2')\"\n",
              "              title=\"Convert this dataframe to an interactive table.\"\n",
              "              style=\"display:none;\">\n",
              "        \n",
              "  <svg xmlns=\"http://www.w3.org/2000/svg\" height=\"24px\"viewBox=\"0 0 24 24\"\n",
              "       width=\"24px\">\n",
              "    <path d=\"M0 0h24v24H0V0z\" fill=\"none\"/>\n",
              "    <path d=\"M18.56 5.44l.94 2.06.94-2.06 2.06-.94-2.06-.94-.94-2.06-.94 2.06-2.06.94zm-11 1L8.5 8.5l.94-2.06 2.06-.94-2.06-.94L8.5 2.5l-.94 2.06-2.06.94zm10 10l.94 2.06.94-2.06 2.06-.94-2.06-.94-.94-2.06-.94 2.06-2.06.94z\"/><path d=\"M17.41 7.96l-1.37-1.37c-.4-.4-.92-.59-1.43-.59-.52 0-1.04.2-1.43.59L10.3 9.45l-7.72 7.72c-.78.78-.78 2.05 0 2.83L4 21.41c.39.39.9.59 1.41.59.51 0 1.02-.2 1.41-.59l7.78-7.78 2.81-2.81c.8-.78.8-2.07 0-2.86zM5.41 20L4 18.59l7.72-7.72 1.47 1.35L5.41 20z\"/>\n",
              "  </svg>\n",
              "      </button>\n",
              "      \n",
              "  <style>\n",
              "    .colab-df-container {\n",
              "      display:flex;\n",
              "      flex-wrap:wrap;\n",
              "      gap: 12px;\n",
              "    }\n",
              "\n",
              "    .colab-df-convert {\n",
              "      background-color: #E8F0FE;\n",
              "      border: none;\n",
              "      border-radius: 50%;\n",
              "      cursor: pointer;\n",
              "      display: none;\n",
              "      fill: #1967D2;\n",
              "      height: 32px;\n",
              "      padding: 0 0 0 0;\n",
              "      width: 32px;\n",
              "    }\n",
              "\n",
              "    .colab-df-convert:hover {\n",
              "      background-color: #E2EBFA;\n",
              "      box-shadow: 0px 1px 2px rgba(60, 64, 67, 0.3), 0px 1px 3px 1px rgba(60, 64, 67, 0.15);\n",
              "      fill: #174EA6;\n",
              "    }\n",
              "\n",
              "    [theme=dark] .colab-df-convert {\n",
              "      background-color: #3B4455;\n",
              "      fill: #D2E3FC;\n",
              "    }\n",
              "\n",
              "    [theme=dark] .colab-df-convert:hover {\n",
              "      background-color: #434B5C;\n",
              "      box-shadow: 0px 1px 3px 1px rgba(0, 0, 0, 0.15);\n",
              "      filter: drop-shadow(0px 1px 2px rgba(0, 0, 0, 0.3));\n",
              "      fill: #FFFFFF;\n",
              "    }\n",
              "  </style>\n",
              "\n",
              "      <script>\n",
              "        const buttonEl =\n",
              "          document.querySelector('#df-8b1895fc-6ea4-4258-86b4-f513fc2b9eb2 button.colab-df-convert');\n",
              "        buttonEl.style.display =\n",
              "          google.colab.kernel.accessAllowed ? 'block' : 'none';\n",
              "\n",
              "        async function convertToInteractive(key) {\n",
              "          const element = document.querySelector('#df-8b1895fc-6ea4-4258-86b4-f513fc2b9eb2');\n",
              "          const dataTable =\n",
              "            await google.colab.kernel.invokeFunction('convertToInteractive',\n",
              "                                                     [key], {});\n",
              "          if (!dataTable) return;\n",
              "\n",
              "          const docLinkHtml = 'Like what you see? Visit the ' +\n",
              "            '<a target=\"_blank\" href=https://colab.research.google.com/notebooks/data_table.ipynb>data table notebook</a>'\n",
              "            + ' to learn more about interactive tables.';\n",
              "          element.innerHTML = '';\n",
              "          dataTable['output_type'] = 'display_data';\n",
              "          await google.colab.output.renderOutput(dataTable, element);\n",
              "          const docLink = document.createElement('div');\n",
              "          docLink.innerHTML = docLinkHtml;\n",
              "          element.appendChild(docLink);\n",
              "        }\n",
              "      </script>\n",
              "    </div>\n",
              "  </div>\n",
              "  "
            ]
          },
          "metadata": {},
          "execution_count": 198
        }
      ]
    },
    {
      "cell_type": "code",
      "source": [
        "temp.head()"
      ],
      "metadata": {
        "colab": {
          "base_uri": "https://localhost:8080/",
          "height": 204
        },
        "id": "7gX8M1v9_TtC",
        "outputId": "3d564e90-5f45-426e-d141-a3a916999d20"
      },
      "id": "7gX8M1v9_TtC",
      "execution_count": null,
      "outputs": [
        {
          "output_type": "execute_result",
          "data": {
            "text/plain": [
              "   t, s  Tg, C  Tr, C   P, %\n",
              "0  0.14   30.0  30.00   0.00\n",
              "1  0.25   30.0  30.00  31.00\n",
              "2  0.34   30.0  30.00  31.00\n",
              "3  0.47   30.0  29.24  31.23\n",
              "4  0.58   30.0  29.24  31.23"
            ],
            "text/html": [
              "\n",
              "  <div id=\"df-e460d28a-0949-4089-80e7-7a642189d4e7\">\n",
              "    <div class=\"colab-df-container\">\n",
              "      <div>\n",
              "<style scoped>\n",
              "    .dataframe tbody tr th:only-of-type {\n",
              "        vertical-align: middle;\n",
              "    }\n",
              "\n",
              "    .dataframe tbody tr th {\n",
              "        vertical-align: top;\n",
              "    }\n",
              "\n",
              "    .dataframe thead th {\n",
              "        text-align: right;\n",
              "    }\n",
              "</style>\n",
              "<table border=\"1\" class=\"dataframe\">\n",
              "  <thead>\n",
              "    <tr style=\"text-align: right;\">\n",
              "      <th></th>\n",
              "      <th>t, s</th>\n",
              "      <th>Tg, C</th>\n",
              "      <th>Tr, C</th>\n",
              "      <th>P, %</th>\n",
              "    </tr>\n",
              "  </thead>\n",
              "  <tbody>\n",
              "    <tr>\n",
              "      <th>0</th>\n",
              "      <td>0.14</td>\n",
              "      <td>30.0</td>\n",
              "      <td>30.00</td>\n",
              "      <td>0.00</td>\n",
              "    </tr>\n",
              "    <tr>\n",
              "      <th>1</th>\n",
              "      <td>0.25</td>\n",
              "      <td>30.0</td>\n",
              "      <td>30.00</td>\n",
              "      <td>31.00</td>\n",
              "    </tr>\n",
              "    <tr>\n",
              "      <th>2</th>\n",
              "      <td>0.34</td>\n",
              "      <td>30.0</td>\n",
              "      <td>30.00</td>\n",
              "      <td>31.00</td>\n",
              "    </tr>\n",
              "    <tr>\n",
              "      <th>3</th>\n",
              "      <td>0.47</td>\n",
              "      <td>30.0</td>\n",
              "      <td>29.24</td>\n",
              "      <td>31.23</td>\n",
              "    </tr>\n",
              "    <tr>\n",
              "      <th>4</th>\n",
              "      <td>0.58</td>\n",
              "      <td>30.0</td>\n",
              "      <td>29.24</td>\n",
              "      <td>31.23</td>\n",
              "    </tr>\n",
              "  </tbody>\n",
              "</table>\n",
              "</div>\n",
              "      <button class=\"colab-df-convert\" onclick=\"convertToInteractive('df-e460d28a-0949-4089-80e7-7a642189d4e7')\"\n",
              "              title=\"Convert this dataframe to an interactive table.\"\n",
              "              style=\"display:none;\">\n",
              "        \n",
              "  <svg xmlns=\"http://www.w3.org/2000/svg\" height=\"24px\"viewBox=\"0 0 24 24\"\n",
              "       width=\"24px\">\n",
              "    <path d=\"M0 0h24v24H0V0z\" fill=\"none\"/>\n",
              "    <path d=\"M18.56 5.44l.94 2.06.94-2.06 2.06-.94-2.06-.94-.94-2.06-.94 2.06-2.06.94zm-11 1L8.5 8.5l.94-2.06 2.06-.94-2.06-.94L8.5 2.5l-.94 2.06-2.06.94zm10 10l.94 2.06.94-2.06 2.06-.94-2.06-.94-.94-2.06-.94 2.06-2.06.94z\"/><path d=\"M17.41 7.96l-1.37-1.37c-.4-.4-.92-.59-1.43-.59-.52 0-1.04.2-1.43.59L10.3 9.45l-7.72 7.72c-.78.78-.78 2.05 0 2.83L4 21.41c.39.39.9.59 1.41.59.51 0 1.02-.2 1.41-.59l7.78-7.78 2.81-2.81c.8-.78.8-2.07 0-2.86zM5.41 20L4 18.59l7.72-7.72 1.47 1.35L5.41 20z\"/>\n",
              "  </svg>\n",
              "      </button>\n",
              "      \n",
              "  <style>\n",
              "    .colab-df-container {\n",
              "      display:flex;\n",
              "      flex-wrap:wrap;\n",
              "      gap: 12px;\n",
              "    }\n",
              "\n",
              "    .colab-df-convert {\n",
              "      background-color: #E8F0FE;\n",
              "      border: none;\n",
              "      border-radius: 50%;\n",
              "      cursor: pointer;\n",
              "      display: none;\n",
              "      fill: #1967D2;\n",
              "      height: 32px;\n",
              "      padding: 0 0 0 0;\n",
              "      width: 32px;\n",
              "    }\n",
              "\n",
              "    .colab-df-convert:hover {\n",
              "      background-color: #E2EBFA;\n",
              "      box-shadow: 0px 1px 2px rgba(60, 64, 67, 0.3), 0px 1px 3px 1px rgba(60, 64, 67, 0.15);\n",
              "      fill: #174EA6;\n",
              "    }\n",
              "\n",
              "    [theme=dark] .colab-df-convert {\n",
              "      background-color: #3B4455;\n",
              "      fill: #D2E3FC;\n",
              "    }\n",
              "\n",
              "    [theme=dark] .colab-df-convert:hover {\n",
              "      background-color: #434B5C;\n",
              "      box-shadow: 0px 1px 3px 1px rgba(0, 0, 0, 0.15);\n",
              "      filter: drop-shadow(0px 1px 2px rgba(0, 0, 0, 0.3));\n",
              "      fill: #FFFFFF;\n",
              "    }\n",
              "  </style>\n",
              "\n",
              "      <script>\n",
              "        const buttonEl =\n",
              "          document.querySelector('#df-e460d28a-0949-4089-80e7-7a642189d4e7 button.colab-df-convert');\n",
              "        buttonEl.style.display =\n",
              "          google.colab.kernel.accessAllowed ? 'block' : 'none';\n",
              "\n",
              "        async function convertToInteractive(key) {\n",
              "          const element = document.querySelector('#df-e460d28a-0949-4089-80e7-7a642189d4e7');\n",
              "          const dataTable =\n",
              "            await google.colab.kernel.invokeFunction('convertToInteractive',\n",
              "                                                     [key], {});\n",
              "          if (!dataTable) return;\n",
              "\n",
              "          const docLinkHtml = 'Like what you see? Visit the ' +\n",
              "            '<a target=\"_blank\" href=https://colab.research.google.com/notebooks/data_table.ipynb>data table notebook</a>'\n",
              "            + ' to learn more about interactive tables.';\n",
              "          element.innerHTML = '';\n",
              "          dataTable['output_type'] = 'display_data';\n",
              "          await google.colab.output.renderOutput(dataTable, element);\n",
              "          const docLink = document.createElement('div');\n",
              "          docLink.innerHTML = docLinkHtml;\n",
              "          element.appendChild(docLink);\n",
              "        }\n",
              "      </script>\n",
              "    </div>\n",
              "  </div>\n",
              "  "
            ]
          },
          "metadata": {},
          "execution_count": 199
        }
      ]
    },
    {
      "cell_type": "code",
      "source": [
        ""
      ],
      "metadata": {
        "id": "2v2OddVg4qCM"
      },
      "id": "2v2OddVg4qCM",
      "execution_count": null,
      "outputs": []
    },
    {
      "cell_type": "code",
      "source": [
        "titles = [3, 4, 19, 20]\n",
        "arr_of_integrals = []\n",
        "for idx, need_col in enumerate(['2', '3', '12', '13']):\n",
        "  x = data['RelTime[s]']\n",
        "  y = data[need_col]\n",
        "  arr_of_integrals.append(np.trapz(y, x))\n",
        "  x1 = temp['t, s']\n",
        "  y1 = temp['Tg, C'] + 273\n",
        "  fig,ax = plt.subplots()\n",
        "  ax.plot(x, y, color='teal',linewidth=3, label = \"I(t)\")\n",
        "  ax.grid()\n",
        "\n",
        "\n",
        "  ax.set_title(f'График зависимости тока и температуры от времени\\n для массы {titles[idx]}')\n",
        "  ax.set_ylabel('I, A')\n",
        "  ax.set_xlabel('t, С')\n",
        "  ax2 = ax.twinx()\n",
        "  ax2.plot(x1, y1, color='orange', linewidth=3, label = \"T(t)\")\n",
        "\n",
        "  # Align to 0\n",
        "  #ax2.set_ylim(bottom=0)\n",
        "  ax2.set_ylabel('T, K')\n",
        "  ax.legend(loc='center right')\n",
        "  ax2.legend(loc='upper left')\n",
        "\n",
        "\n",
        "  plt.show()\n"
      ],
      "metadata": {
        "colab": {
          "base_uri": "https://localhost:8080/",
          "height": 1000
        },
        "id": "b_NVhpDw7888",
        "outputId": "a0625982-d217-431a-ae0d-9696b9f9dd5c"
      },
      "id": "b_NVhpDw7888",
      "execution_count": null,
      "outputs": [
        {
          "output_type": "display_data",
          "data": {
            "text/plain": [
              "<Figure size 432x288 with 2 Axes>"
            ],
            "image/png": "[encoded data removed]"
          },
          "metadata": {
            "needs_background": "light"
          }
        },
        {
          "output_type": "display_data",
          "data": {
            "text/plain": [
              "<Figure size 432x288 with 2 Axes>"
            ],
            "image/png": "[encoded data removed]"
          },
          "metadata": {
            "needs_background": "light"
          }
        },
        {
          "output_type": "display_data",
          "data": {
            "text/plain": [
              "<Figure size 432x288 with 2 Axes>"
            ],
            "image/png": "[encoded data removed]"
          },
          "metadata": {
            "needs_background": "light"
          }
        },
        {
          "output_type": "display_data",
          "data": {
            "text/plain": [
              "<Figure size 432x288 with 2 Axes>"
            ],
            "image/png": "[encoded data removed]"
          },
          "metadata": {
            "needs_background": "light"
          }
        }
      ]
    },
    {
      "cell_type": "code",
      "source": [
        "arr_of_integrals"
      ],
      "metadata": {
        "colab": {
          "base_uri": "https://localhost:8080/"
        },
        "id": "7lyBrDtSQFCX",
        "outputId": "8a49cfee-8add-488d-e6f2-2f6675a380d4"
      },
      "id": "7lyBrDtSQFCX",
      "execution_count": null,
      "outputs": [
        {
          "output_type": "execute_result",
          "data": {
            "text/plain": [
              "[3.9125551782577004e-08,\n",
              " 5.325949059775e-09,\n",
              " 8.965830590545499e-09,\n",
              " 1.742437157561e-09]"
            ]
          },
          "metadata": {},
          "execution_count": 201
        }
      ]
    },
    {
      "cell_type": "code",
      "source": [
        "calibr = pd.read_csv('/content/calibr_(wycr 3).csv', sep = '\\t', names = cols)"
      ],
      "metadata": {
        "id": "d3qnTwWVSBiV"
      },
      "id": "d3qnTwWVSBiV",
      "execution_count": null,
      "outputs": []
    },
    {
      "cell_type": "code",
      "source": [
        "calibr = calibr.iloc[2:]\n",
        "calibr = calibr.drop(['20'], axis = 1)\n",
        "cols_to_float = ['RelTime[s]'] + [str(i+1) for i in range(19)]\n",
        "calibr[cols_to_float] = calibr[cols_to_float].astype(float)\n",
        "calibr = calibr[calibr['RelTime[s]'] > temp['t, s'].iloc[0]]"
      ],
      "metadata": {
        "id": "IYJz6RvBSoyz"
      },
      "id": "IYJz6RvBSoyz",
      "execution_count": null,
      "outputs": []
    },
    {
      "cell_type": "code",
      "source": [
        "y_calibr = calibr['3']\n",
        "x_calibr = calibr['RelTime[s]']"
      ],
      "metadata": {
        "id": "j_NPR8G0SskR"
      },
      "id": "j_NPR8G0SskR",
      "execution_count": null,
      "outputs": []
    },
    {
      "cell_type": "code",
      "source": [
        "I0 = calibr[ calibr['RelTime[s]'] > 800]['3'].mean()\n",
        "I0 = [I0 for i in range(len(x_calibr))]"
      ],
      "metadata": {
        "id": "jWywpQSmUY_n"
      },
      "id": "jWywpQSmUY_n",
      "execution_count": null,
      "outputs": []
    },
    {
      "cell_type": "code",
      "source": [
        "plt.plot(x_calibr, y_calibr, label='I(t)')\n",
        "plt.plot(x_calibr, I0,  '--', color='red', linewidth=2 , label='I0')\n",
        "plt.xlabel('t, c')\n",
        "plt.ylabel('I, A')\n",
        "plt.title('Калибровочный график для массы 4')\n",
        "plt.ylim([0,0.4e-7])\n",
        "plt.grid()\n",
        "\n",
        "plt.legend()\n",
        "plt.show()"
      ],
      "metadata": {
        "colab": {
          "base_uri": "https://localhost:8080/",
          "height": 295
        },
        "id": "j9zjtX0WTKlU",
        "outputId": "92472672-b39c-4c7f-c135-7c5c5710be19"
      },
      "id": "j9zjtX0WTKlU",
      "execution_count": null,
      "outputs": [
        {
          "output_type": "display_data",
          "data": {
            "text/plain": [
              "<Figure size 432x288 with 1 Axes>"
            ],
            "image/png": "[encoded data removed]"
          },
          "metadata": {
            "needs_background": "light"
          }
        }
      ]
    },
    {
      "cell_type": "code",
      "source": [
        "baratron = pd.read_csv('/content/baratron_(wycr 3).txt', sep=\"\\t\", names = ['t','P'])\n",
        "baratron['t'] = baratron['t'].apply(lambda x: float(x.replace(',','.')))\n",
        "baratron['P'] = baratron['P'].apply(lambda x: float(x.replace(',','.')))"
      ],
      "metadata": {
        "id": "jSzcDagETxGD"
      },
      "id": "jSzcDagETxGD",
      "execution_count": null,
      "outputs": []
    },
    {
      "cell_type": "code",
      "source": [
        "x_bara = baratron['t']\n",
        "y_bara = baratron['P'] * 0.750062 # to Torr"
      ],
      "metadata": {
        "id": "jRWci9xrYLZG"
      },
      "id": "jRWci9xrYLZG",
      "execution_count": null,
      "outputs": []
    },
    {
      "cell_type": "code",
      "source": [
        "from scipy.optimize import curve_fit"
      ],
      "metadata": {
        "id": "Mp-B-pxoX-X3"
      },
      "id": "Mp-B-pxoX-X3",
      "execution_count": null,
      "outputs": []
    },
    {
      "cell_type": "code",
      "source": [
        "def objective(x, a, b):\n",
        "\treturn a * x + b"
      ],
      "metadata": {
        "id": "bppWZG1M9_1U"
      },
      "id": "bppWZG1M9_1U",
      "execution_count": null,
      "outputs": []
    },
    {
      "cell_type": "code",
      "source": [
        "fit_x = x_bara[150:400]\n",
        "fit_y = y_bara[150:400]"
      ],
      "metadata": {
        "id": "JaaSzu75-Fo0"
      },
      "id": "JaaSzu75-Fo0",
      "execution_count": null,
      "outputs": []
    },
    {
      "cell_type": "code",
      "source": [
        "popt, _ = curve_fit(objective, fit_x, fit_y)\n",
        "a, b = popt"
      ],
      "metadata": {
        "id": "KmPYMMnb-LTj"
      },
      "id": "KmPYMMnb-LTj",
      "execution_count": null,
      "outputs": []
    },
    {
      "cell_type": "code",
      "source": [
        "x_line = np.arange(min(fit_x), max(fit_x), 1)"
      ],
      "metadata": {
        "id": "RJ7wmI3m-aN9"
      },
      "id": "RJ7wmI3m-aN9",
      "execution_count": null,
      "outputs": []
    },
    {
      "cell_type": "code",
      "source": [
        "y_line = objective(x_line, a, b)"
      ],
      "metadata": {
        "id": "c9HSa1iH-bs4"
      },
      "id": "c9HSa1iH-bs4",
      "execution_count": null,
      "outputs": []
    },
    {
      "cell_type": "code",
      "source": [
        "plt.plot(x_line, y_line, '--', color='red', linewidth=3, label = \"fitting\")\n",
        "plt.plot(x_bara, y_bara, label = \"P(t)\")\n",
        "plt.xlabel('t, c')\n",
        "plt.grid()\n",
        "plt.ylabel('P, Torr')\n",
        "plt.title('График зависимости давления от времени')\n",
        "plt.legend()\n",
        "plt.show()"
      ],
      "metadata": {
        "colab": {
          "base_uri": "https://localhost:8080/",
          "height": 295
        },
        "id": "_z-WRcVZ-o3w",
        "outputId": "258e0ded-2739-43d7-b6bd-5f8b40973d38"
      },
      "id": "_z-WRcVZ-o3w",
      "execution_count": null,
      "outputs": [
        {
          "output_type": "display_data",
          "data": {
            "text/plain": [
              "<Figure size 432x288 with 1 Axes>"
            ],
            "image/png": "[encoded data removed]"
          },
          "metadata": {
            "needs_background": "light"
          }
        }
      ]
    },
    {
      "cell_type": "code",
      "source": [
        "a, I0[0]"
      ],
      "metadata": {
        "colab": {
          "base_uri": "https://localhost:8080/"
        },
        "id": "x5y7rvki-s_L",
        "outputId": "0ca7922a-79ef-4786-fda5-a5a02db8056f"
      },
      "id": "x5y7rvki-s_L",
      "execution_count": null,
      "outputs": [
        {
          "output_type": "execute_result",
          "data": {
            "text/plain": [
              "(0.00036681410641093516, 5.707929523809524e-09)"
            ]
          },
          "metadata": {},
          "execution_count": 216
        }
      ]
    },
    {
      "cell_type": "code",
      "source": [
        " 5.2e-2 * a/I0[0]"
      ],
      "metadata": {
        "colab": {
          "base_uri": "https://localhost:8080/"
        },
        "id": "Zuv8BNRW_pIU",
        "outputId": "a7407cee-d5ea-4629-8aa8-c158b4c9129e"
      },
      "id": "Zuv8BNRW_pIU",
      "execution_count": null,
      "outputs": [
        {
          "output_type": "execute_result",
          "data": {
            "text/plain": [
              "3341.7254809828564"
            ]
          },
          "metadata": {},
          "execution_count": 217
        }
      ]
    },
    {
      "cell_type": "code",
      "source": [
        "k = 3.5e19 * 5.2e-2 * a/I0[0]\n",
        "k"
      ],
      "metadata": {
        "colab": {
          "base_uri": "https://localhost:8080/"
        },
        "id": "k8L6uDHV_e-Z",
        "outputId": "d3ba84f9-4171-433f-e34e-288c40ef725a"
      },
      "id": "k8L6uDHV_e-Z",
      "execution_count": null,
      "outputs": [
        {
          "output_type": "execute_result",
          "data": {
            "text/plain": [
              "1.1696039183439998e+23"
            ]
          },
          "metadata": {},
          "execution_count": 218
        }
      ]
    },
    {
      "cell_type": "code",
      "source": [
        "integrals_prod_coef = k * np.array(arr_of_integrals)"
      ],
      "metadata": {
        "id": "_vRFN9ST_wz0"
      },
      "id": "_vRFN9ST_wz0",
      "execution_count": null,
      "outputs": []
    },
    {
      "cell_type": "code",
      "source": [
        "coef = [0.5, 2, 0.5, 2]\n",
        "for idx, c in enumerate(coef):\n",
        "  integrals_prod_coef[idx]*=c"
      ],
      "metadata": {
        "id": "WbhIXaYa_xiP"
      },
      "id": "WbhIXaYa_xiP",
      "execution_count": null,
      "outputs": []
    },
    {
      "cell_type": "code",
      "source": [
        "integrals_prod_coef"
      ],
      "metadata": {
        "colab": {
          "base_uri": "https://localhost:8080/"
        },
        "id": "NTKuHTrp3O0i",
        "outputId": "1c10605a-d797-4e00-958d-fb97f8081e9d"
      },
      "id": "NTKuHTrp3O0i",
      "execution_count": null,
      "outputs": [
        {
          "output_type": "execute_result",
          "data": {
            "text/plain": [
              "array([2.28806993e+15, 1.24585018e+15, 5.24323529e+14, 4.07592265e+14])"
            ]
          },
          "metadata": {},
          "execution_count": 221
        }
      ]
    },
    {
      "cell_type": "code",
      "source": [
        "integrals_prod_coef.sum()/1e15"
      ],
      "metadata": {
        "colab": {
          "base_uri": "https://localhost:8080/"
        },
        "id": "_vOolqY33Pfw",
        "outputId": "eb1dfc1b-4a52-41f7-c349-1c58837e8f00"
      },
      "id": "_vOolqY33Pfw",
      "execution_count": null,
      "outputs": [
        {
          "output_type": "execute_result",
          "data": {
            "text/plain": [
              "4.465835906342164"
            ]
          },
          "metadata": {},
          "execution_count": 224
        }
      ]
    },
    {
      "cell_type": "code",
      "source": [
        ""
      ],
      "metadata": {
        "id": "1LbBPyvDESgc"
      },
      "id": "1LbBPyvDESgc",
      "execution_count": null,
      "outputs": []
    }
  ],
  "metadata": {
    "kernelspec": {
      "display_name": "Python 3 (ipykernel)",
      "language": "python",
      "name": "python3"
    },
    "language_info": {
      "codemirror_mode": {
        "name": "ipython",
        "version": 3
      },
      "file_extension": ".py",
      "mimetype": "text/x-python",
      "name": "python",
      "nbconvert_exporter": "python",
      "pygments_lexer": "ipython3",
      "version": "3.8.10"
    },
    "varInspector": {
      "cols": {
        "lenName": 16,
        "lenType": 16,
        "lenVar": 40
      },
      "kernels_config": {
        "python": {
          "delete_cmd_postfix": "",
          "delete_cmd_prefix": "del ",
          "library": "var_list.py",
          "varRefreshCmd": "print(var_dic_list())"
        },
        "r": {
          "delete_cmd_postfix": ") ",
          "delete_cmd_prefix": "rm(",
          "library": "var_list.r",
          "varRefreshCmd": "cat(var_dic_list()) "
        }
      },
      "types_to_exclude": [
        "module",
        "function",
        "builtin_function_or_method",
        "instance",
        "_Feature"
      ],
      "window_display": false
    },
    "colab": {
      "name": "hw.ipynb",
      "provenance": []
    }
  },
  "nbformat": 4,
  "nbformat_minor": 5
}